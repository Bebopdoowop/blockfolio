{
 "cells": [
  {
   "cell_type": "markdown",
   "metadata": {},
   "source": [
    "# IPython Blockfolio\n",
    "\n",
    "This is a simple \"Blockfolio\" using Python and the [CoinMarketCap API](https://coinmarketcap.com/api/).\n",
    "You need an API key - which you can get for free - to use this notebook!\n",
    "\n",
    "It will show the net worth in USD of your Cryptocurrency investments as well as the relative share\n",
    "of coins you own in comparison to the total coin supply of the corresponding digital asset.\n",
    "\n",
    "First, the current exchanges rates are loaded, then combined with your investments, and finally displayed using Plotly.\n",
    "\n",
    "This notebook can be found on [my github profile](https://github.com/SmokinCaterpillar/blockfolio)."
   ]
  },
  {
   "cell_type": "markdown",
   "metadata": {},
   "source": [
    "Imports\n",
    "--------"
   ]
  },
  {
   "cell_type": "code",
   "execution_count": 1,
   "metadata": {},
   "outputs": [
    {
     "data": {
      "text/html": [
       "        <script type=\"text/javascript\">\n",
       "        window.PlotlyConfig = {MathJaxConfig: 'local'};\n",
       "        if (window.MathJax) {MathJax.Hub.Config({SVG: {font: \"STIX-Web\"}});}\n",
       "        if (typeof require !== 'undefined') {\n",
       "        require.undef(\"plotly\");\n",
       "        requirejs.config({\n",
       "            paths: {\n",
       "                'plotly': ['https://cdn.plot.ly/plotly-latest.min']\n",
       "            }\n",
       "        });\n",
       "        require(['plotly'], function(Plotly) {\n",
       "            window._Plotly = Plotly;\n",
       "        });\n",
       "        }\n",
       "        </script>\n",
       "        "
      ]
     },
     "metadata": {},
     "output_type": "display_data"
    }
   ],
   "source": [
    "from datetime import datetime\n",
    "from requests import Request, Session\n",
    "from requests.exceptions import ConnectionError, Timeout, TooManyRedirects\n",
    "import json\n",
    "import pandas as pd\n",
    "import plotly.offline as py\n",
    "import plotly.graph_objs as go\n",
    "py.init_notebook_mode(connected=True)"
   ]
  },
  {
   "cell_type": "markdown",
   "metadata": {},
   "source": [
    "## Loading Data from CoinMarkteCap"
   ]
  },
  {
   "cell_type": "code",
   "execution_count": 2,
   "metadata": {},
   "outputs": [],
   "source": [
    "LIMIT = 1000  # only load the top 1000 currencies, if you have invested in smaller ones increase this limit\n",
    "API_KEY = \"\"  # add your API key here\n",
    "\n",
    "url = 'https://pro-api.coinmarketcap.com/v1/cryptocurrency/listings/latest'\n",
    "parameters = {\n",
    "  'start':'1',\n",
    "  'limit':LIMIT,\n",
    "  'convert':'USD'\n",
    "}\n",
    "headers = {\n",
    "  'Accepts': 'application/json',\n",
    "  'X-CMC_PRO_API_KEY': API_KEY,\n",
    "}\n",
    "\n",
    "session = Session()\n",
    "session.headers.update(headers)\n",
    "\n",
    "try:\n",
    "    # load the json data from the API\n",
    "    response = session.get(url, params=parameters)\n",
    "    data = json.loads(response.text)\n",
    "except Exception as e:\n",
    "    print(e)\n",
    "if data[\"status\"][\"error_message\"]:\n",
    "    print(data[\"status\"][\"error_message\"])"
   ]
  },
  {
   "cell_type": "code",
   "execution_count": 3,
   "metadata": {},
   "outputs": [
    {
     "data": {
      "text/html": [
       "<div>\n",
       "<style scoped>\n",
       "    .dataframe tbody tr th:only-of-type {\n",
       "        vertical-align: middle;\n",
       "    }\n",
       "\n",
       "    .dataframe tbody tr th {\n",
       "        vertical-align: top;\n",
       "    }\n",
       "\n",
       "    .dataframe thead th {\n",
       "        text-align: right;\n",
       "    }\n",
       "</style>\n",
       "<table border=\"1\" class=\"dataframe\">\n",
       "  <thead>\n",
       "    <tr style=\"text-align: right;\">\n",
       "      <th></th>\n",
       "      <th>id</th>\n",
       "      <th>name</th>\n",
       "      <th>symbol</th>\n",
       "      <th>slug</th>\n",
       "      <th>num_market_pairs</th>\n",
       "      <th>date_added</th>\n",
       "      <th>tags</th>\n",
       "      <th>max_supply</th>\n",
       "      <th>circulating_supply</th>\n",
       "      <th>total_supply</th>\n",
       "      <th>platform</th>\n",
       "      <th>cmc_rank</th>\n",
       "      <th>last_updated</th>\n",
       "      <th>quote</th>\n",
       "      <th>price_usd</th>\n",
       "    </tr>\n",
       "  </thead>\n",
       "  <tbody>\n",
       "    <tr>\n",
       "      <th>0</th>\n",
       "      <td>1</td>\n",
       "      <td>Bitcoin</td>\n",
       "      <td>BTC</td>\n",
       "      <td>bitcoin</td>\n",
       "      <td>9893</td>\n",
       "      <td>2013-04-28T00:00:00.000Z</td>\n",
       "      <td>[mineable, pow, sha-256, store-of-value, state...</td>\n",
       "      <td>2.100000e+07</td>\n",
       "      <td>1.865906e+07</td>\n",
       "      <td>1.865906e+07</td>\n",
       "      <td>None</td>\n",
       "      <td>1</td>\n",
       "      <td>2021-03-20T11:13:02.000Z</td>\n",
       "      <td>{'USD': {'price': 58976.32978384015, 'volume_2...</td>\n",
       "      <td>58976.329784</td>\n",
       "    </tr>\n",
       "    <tr>\n",
       "      <th>1</th>\n",
       "      <td>1027</td>\n",
       "      <td>Ethereum</td>\n",
       "      <td>ETH</td>\n",
       "      <td>ethereum</td>\n",
       "      <td>6247</td>\n",
       "      <td>2015-08-07T00:00:00.000Z</td>\n",
       "      <td>[mineable, pow, smart-contracts, ethereum, coi...</td>\n",
       "      <td>NaN</td>\n",
       "      <td>1.151261e+08</td>\n",
       "      <td>1.151261e+08</td>\n",
       "      <td>{'id': 2502, 'name': 'Heco', 'symbol': 'HT', '...</td>\n",
       "      <td>2</td>\n",
       "      <td>2021-03-20T11:13:02.000Z</td>\n",
       "      <td>{'USD': {'price': 1842.005493712207, 'volume_2...</td>\n",
       "      <td>1842.005494</td>\n",
       "    </tr>\n",
       "    <tr>\n",
       "      <th>2</th>\n",
       "      <td>1839</td>\n",
       "      <td>Binance Coin</td>\n",
       "      <td>BNB</td>\n",
       "      <td>binance-coin</td>\n",
       "      <td>604</td>\n",
       "      <td>2017-07-25T00:00:00.000Z</td>\n",
       "      <td>[marketplace, centralized-exchange, payments, ...</td>\n",
       "      <td>1.705328e+08</td>\n",
       "      <td>1.545328e+08</td>\n",
       "      <td>1.705328e+08</td>\n",
       "      <td>None</td>\n",
       "      <td>3</td>\n",
       "      <td>2021-03-20T11:12:08.000Z</td>\n",
       "      <td>{'USD': {'price': 270.2093550845516, 'volume_2...</td>\n",
       "      <td>270.209355</td>\n",
       "    </tr>\n",
       "    <tr>\n",
       "      <th>3</th>\n",
       "      <td>2010</td>\n",
       "      <td>Cardano</td>\n",
       "      <td>ADA</td>\n",
       "      <td>cardano</td>\n",
       "      <td>260</td>\n",
       "      <td>2017-10-01T00:00:00.000Z</td>\n",
       "      <td>[mineable, dpos, pos, platform, research, smar...</td>\n",
       "      <td>4.500000e+10</td>\n",
       "      <td>3.194831e+10</td>\n",
       "      <td>4.500000e+10</td>\n",
       "      <td>None</td>\n",
       "      <td>4</td>\n",
       "      <td>2021-03-20T11:12:10.000Z</td>\n",
       "      <td>{'USD': {'price': 1.27283977624264, 'volume_24...</td>\n",
       "      <td>1.272840</td>\n",
       "    </tr>\n",
       "    <tr>\n",
       "      <th>4</th>\n",
       "      <td>825</td>\n",
       "      <td>Tether</td>\n",
       "      <td>USDT</td>\n",
       "      <td>tether</td>\n",
       "      <td>11564</td>\n",
       "      <td>2015-02-25T00:00:00.000Z</td>\n",
       "      <td>[store-of-value, payments, stablecoin, stablec...</td>\n",
       "      <td>NaN</td>\n",
       "      <td>3.943707e+10</td>\n",
       "      <td>4.063629e+10</td>\n",
       "      <td>{'id': 1027, 'name': 'Ethereum', 'symbol': 'ET...</td>\n",
       "      <td>5</td>\n",
       "      <td>2021-03-20T11:12:09.000Z</td>\n",
       "      <td>{'USD': {'price': 1.0032891986942, 'volume_24h...</td>\n",
       "      <td>1.003289</td>\n",
       "    </tr>\n",
       "  </tbody>\n",
       "</table>\n",
       "</div>"
      ],
      "text/plain": [
       "     id          name symbol          slug  num_market_pairs  \\\n",
       "0     1       Bitcoin    BTC       bitcoin              9893   \n",
       "1  1027      Ethereum    ETH      ethereum              6247   \n",
       "2  1839  Binance Coin    BNB  binance-coin               604   \n",
       "3  2010       Cardano    ADA       cardano               260   \n",
       "4   825        Tether   USDT        tether             11564   \n",
       "\n",
       "                 date_added  \\\n",
       "0  2013-04-28T00:00:00.000Z   \n",
       "1  2015-08-07T00:00:00.000Z   \n",
       "2  2017-07-25T00:00:00.000Z   \n",
       "3  2017-10-01T00:00:00.000Z   \n",
       "4  2015-02-25T00:00:00.000Z   \n",
       "\n",
       "                                                tags    max_supply  \\\n",
       "0  [mineable, pow, sha-256, store-of-value, state...  2.100000e+07   \n",
       "1  [mineable, pow, smart-contracts, ethereum, coi...           NaN   \n",
       "2  [marketplace, centralized-exchange, payments, ...  1.705328e+08   \n",
       "3  [mineable, dpos, pos, platform, research, smar...  4.500000e+10   \n",
       "4  [store-of-value, payments, stablecoin, stablec...           NaN   \n",
       "\n",
       "   circulating_supply  total_supply  \\\n",
       "0        1.865906e+07  1.865906e+07   \n",
       "1        1.151261e+08  1.151261e+08   \n",
       "2        1.545328e+08  1.705328e+08   \n",
       "3        3.194831e+10  4.500000e+10   \n",
       "4        3.943707e+10  4.063629e+10   \n",
       "\n",
       "                                            platform  cmc_rank  \\\n",
       "0                                               None         1   \n",
       "1  {'id': 2502, 'name': 'Heco', 'symbol': 'HT', '...         2   \n",
       "2                                               None         3   \n",
       "3                                               None         4   \n",
       "4  {'id': 1027, 'name': 'Ethereum', 'symbol': 'ET...         5   \n",
       "\n",
       "               last_updated  \\\n",
       "0  2021-03-20T11:13:02.000Z   \n",
       "1  2021-03-20T11:13:02.000Z   \n",
       "2  2021-03-20T11:12:08.000Z   \n",
       "3  2021-03-20T11:12:10.000Z   \n",
       "4  2021-03-20T11:12:09.000Z   \n",
       "\n",
       "                                               quote     price_usd  \n",
       "0  {'USD': {'price': 58976.32978384015, 'volume_2...  58976.329784  \n",
       "1  {'USD': {'price': 1842.005493712207, 'volume_2...   1842.005494  \n",
       "2  {'USD': {'price': 270.2093550845516, 'volume_2...    270.209355  \n",
       "3  {'USD': {'price': 1.27283977624264, 'volume_24...      1.272840  \n",
       "4  {'USD': {'price': 1.0032891986942, 'volume_24h...      1.003289  "
      ]
     },
     "execution_count": 3,
     "metadata": {},
     "output_type": "execute_result"
    }
   ],
   "source": [
    "# transform data using pandas and keep track of the time\n",
    "now = datetime.now()\n",
    "market_data = pd.DataFrame(data['data'])\n",
    "market_data.head(10)\n",
    "market_data[\"price_usd\"] = market_data.quote.apply(lambda x: x['USD']['price'])\n",
    "market_data.head()"
   ]
  },
  {
   "cell_type": "markdown",
   "metadata": {},
   "source": [
    "## Your Blockfolio\n",
    "\n",
    "Below you can fill in the types and amount of coins you have into the Python dictionary\n",
    "with the format `'SYMBOL': value`."
   ]
  },
  {
   "cell_type": "code",
   "execution_count": 4,
   "metadata": {},
   "outputs": [
    {
     "data": {
      "text/html": [
       "<div>\n",
       "<style scoped>\n",
       "    .dataframe tbody tr th:only-of-type {\n",
       "        vertical-align: middle;\n",
       "    }\n",
       "\n",
       "    .dataframe tbody tr th {\n",
       "        vertical-align: top;\n",
       "    }\n",
       "\n",
       "    .dataframe thead th {\n",
       "        text-align: right;\n",
       "    }\n",
       "</style>\n",
       "<table border=\"1\" class=\"dataframe\">\n",
       "  <thead>\n",
       "    <tr style=\"text-align: right;\">\n",
       "      <th></th>\n",
       "      <th>symbol</th>\n",
       "      <th>amount</th>\n",
       "    </tr>\n",
       "  </thead>\n",
       "  <tbody>\n",
       "    <tr>\n",
       "      <th>0</th>\n",
       "      <td>BTC</td>\n",
       "      <td>0.31337</td>\n",
       "    </tr>\n",
       "    <tr>\n",
       "      <th>1</th>\n",
       "      <td>BCH</td>\n",
       "      <td>0.01337</td>\n",
       "    </tr>\n",
       "    <tr>\n",
       "      <th>2</th>\n",
       "      <td>ETH</td>\n",
       "      <td>3.00000</td>\n",
       "    </tr>\n",
       "    <tr>\n",
       "      <th>3</th>\n",
       "      <td>LTC</td>\n",
       "      <td>1.50000</td>\n",
       "    </tr>\n",
       "    <tr>\n",
       "      <th>4</th>\n",
       "      <td>MIOTA</td>\n",
       "      <td>777.00000</td>\n",
       "    </tr>\n",
       "    <tr>\n",
       "      <th>5</th>\n",
       "      <td>XRP</td>\n",
       "      <td>13.00000</td>\n",
       "    </tr>\n",
       "    <tr>\n",
       "      <th>6</th>\n",
       "      <td>DASH</td>\n",
       "      <td>0.10000</td>\n",
       "    </tr>\n",
       "    <tr>\n",
       "      <th>7</th>\n",
       "      <td>XMR</td>\n",
       "      <td>1.00000</td>\n",
       "    </tr>\n",
       "    <tr>\n",
       "      <th>8</th>\n",
       "      <td>LSK</td>\n",
       "      <td>12.00000</td>\n",
       "    </tr>\n",
       "    <tr>\n",
       "      <th>9</th>\n",
       "      <td>OMG</td>\n",
       "      <td>1.10000</td>\n",
       "    </tr>\n",
       "    <tr>\n",
       "      <th>10</th>\n",
       "      <td>NANO</td>\n",
       "      <td>42.00000</td>\n",
       "    </tr>\n",
       "    <tr>\n",
       "      <th>11</th>\n",
       "      <td>PIVX</td>\n",
       "      <td>123.00000</td>\n",
       "    </tr>\n",
       "    <tr>\n",
       "      <th>12</th>\n",
       "      <td>ARK</td>\n",
       "      <td>22.00000</td>\n",
       "    </tr>\n",
       "    <tr>\n",
       "      <th>13</th>\n",
       "      <td>NEO</td>\n",
       "      <td>7.00000</td>\n",
       "    </tr>\n",
       "    <tr>\n",
       "      <th>14</th>\n",
       "      <td>GAS</td>\n",
       "      <td>0.01000</td>\n",
       "    </tr>\n",
       "    <tr>\n",
       "      <th>15</th>\n",
       "      <td>STEEM</td>\n",
       "      <td>499.00000</td>\n",
       "    </tr>\n",
       "  </tbody>\n",
       "</table>\n",
       "</div>"
      ],
      "text/plain": [
       "   symbol     amount\n",
       "0     BTC    0.31337\n",
       "1     BCH    0.01337\n",
       "2     ETH    3.00000\n",
       "3     LTC    1.50000\n",
       "4   MIOTA  777.00000\n",
       "5     XRP   13.00000\n",
       "6    DASH    0.10000\n",
       "7     XMR    1.00000\n",
       "8     LSK   12.00000\n",
       "9     OMG    1.10000\n",
       "10   NANO   42.00000\n",
       "11   PIVX  123.00000\n",
       "12    ARK   22.00000\n",
       "13    NEO    7.00000\n",
       "14    GAS    0.01000\n",
       "15  STEEM  499.00000"
      ]
     },
     "execution_count": 4,
     "metadata": {},
     "output_type": "execute_result"
    }
   ],
   "source": [
    "# enter your coins below:\n",
    "block_folio = {\n",
    "    'BTC': 0.31337,\n",
    "    'BCH': 0.01337,\n",
    "    'ETH': 3,\n",
    "    'LTC': 1.5,\n",
    "    'MIOTA': 777,\n",
    "    'XRP': 13,\n",
    "    'DASH': 0.1, \n",
    "    'XMR': 1, \n",
    "    'LSK': 12, \n",
    "    'OMG': 1.1, \n",
    "    'NANO': 42, \n",
    "    'PIVX': 123, \n",
    "    'ARK': 22, \n",
    "    'NEO': 7, \n",
    "    'GAS': 0.01,\n",
    "    'STEEM': 499,\n",
    "}\n",
    "\n",
    "# display your blockfolio\n",
    "block_folio = pd.DataFrame(list(block_folio.items()), columns=['symbol', 'amount'])\n",
    "block_folio.head(len(block_folio))"
   ]
  },
  {
   "cell_type": "markdown",
   "metadata": {},
   "source": [
    "### Combining the Blockfolio and the API Data"
   ]
  },
  {
   "cell_type": "code",
   "execution_count": 5,
   "metadata": {},
   "outputs": [
    {
     "data": {
      "text/html": [
       "<div>\n",
       "<style scoped>\n",
       "    .dataframe tbody tr th:only-of-type {\n",
       "        vertical-align: middle;\n",
       "    }\n",
       "\n",
       "    .dataframe tbody tr th {\n",
       "        vertical-align: top;\n",
       "    }\n",
       "\n",
       "    .dataframe thead th {\n",
       "        text-align: right;\n",
       "    }\n",
       "</style>\n",
       "<table border=\"1\" class=\"dataframe\">\n",
       "  <thead>\n",
       "    <tr style=\"text-align: right;\">\n",
       "      <th></th>\n",
       "      <th>symbol</th>\n",
       "      <th>amount</th>\n",
       "      <th>id</th>\n",
       "      <th>name</th>\n",
       "      <th>slug</th>\n",
       "      <th>num_market_pairs</th>\n",
       "      <th>date_added</th>\n",
       "      <th>tags</th>\n",
       "      <th>max_supply</th>\n",
       "      <th>circulating_supply</th>\n",
       "      <th>total_supply</th>\n",
       "      <th>platform</th>\n",
       "      <th>cmc_rank</th>\n",
       "      <th>last_updated</th>\n",
       "      <th>quote</th>\n",
       "      <th>price_usd</th>\n",
       "      <th>value_usd</th>\n",
       "      <th>coinshare</th>\n",
       "    </tr>\n",
       "  </thead>\n",
       "  <tbody>\n",
       "    <tr>\n",
       "      <th>0</th>\n",
       "      <td>BTC</td>\n",
       "      <td>0.31337</td>\n",
       "      <td>1</td>\n",
       "      <td>Bitcoin</td>\n",
       "      <td>bitcoin</td>\n",
       "      <td>9893</td>\n",
       "      <td>2013-04-28T00:00:00.000Z</td>\n",
       "      <td>[mineable, pow, sha-256, store-of-value, state...</td>\n",
       "      <td>2.100000e+07</td>\n",
       "      <td>1.865906e+07</td>\n",
       "      <td>1.865906e+07</td>\n",
       "      <td>None</td>\n",
       "      <td>1</td>\n",
       "      <td>2021-03-20T11:13:02.000Z</td>\n",
       "      <td>{'USD': {'price': 58976.32978384015, 'volume_2...</td>\n",
       "      <td>58976.329784</td>\n",
       "      <td>18481.412464</td>\n",
       "      <td>1.679452e-08</td>\n",
       "    </tr>\n",
       "    <tr>\n",
       "      <th>2</th>\n",
       "      <td>ETH</td>\n",
       "      <td>3.00000</td>\n",
       "      <td>1027</td>\n",
       "      <td>Ethereum</td>\n",
       "      <td>ethereum</td>\n",
       "      <td>6247</td>\n",
       "      <td>2015-08-07T00:00:00.000Z</td>\n",
       "      <td>[mineable, pow, smart-contracts, ethereum, coi...</td>\n",
       "      <td>NaN</td>\n",
       "      <td>1.151261e+08</td>\n",
       "      <td>1.151261e+08</td>\n",
       "      <td>{'id': 2502, 'name': 'Heco', 'symbol': 'HT', '...</td>\n",
       "      <td>2</td>\n",
       "      <td>2021-03-20T11:13:02.000Z</td>\n",
       "      <td>{'USD': {'price': 1842.005493712207, 'volume_2...</td>\n",
       "      <td>1842.005494</td>\n",
       "      <td>5526.016481</td>\n",
       "      <td>2.605839e-08</td>\n",
       "    </tr>\n",
       "    <tr>\n",
       "      <th>4</th>\n",
       "      <td>MIOTA</td>\n",
       "      <td>777.00000</td>\n",
       "      <td>1720</td>\n",
       "      <td>IOTA</td>\n",
       "      <td>iota</td>\n",
       "      <td>71</td>\n",
       "      <td>2017-06-13T00:00:00.000Z</td>\n",
       "      <td>[dag, medium-of-exchange, iot, sharing-economy]</td>\n",
       "      <td>2.779530e+09</td>\n",
       "      <td>2.779530e+09</td>\n",
       "      <td>2.779530e+09</td>\n",
       "      <td>None</td>\n",
       "      <td>28</td>\n",
       "      <td>2021-03-20T11:12:07.000Z</td>\n",
       "      <td>{'USD': {'price': 1.45300671164127, 'volume_24...</td>\n",
       "      <td>1.453007</td>\n",
       "      <td>1128.986215</td>\n",
       "      <td>2.795436e-07</td>\n",
       "    </tr>\n",
       "    <tr>\n",
       "      <th>13</th>\n",
       "      <td>NEO</td>\n",
       "      <td>7.00000</td>\n",
       "      <td>1376</td>\n",
       "      <td>Neo</td>\n",
       "      <td>neo</td>\n",
       "      <td>276</td>\n",
       "      <td>2016-09-08T00:00:00.000Z</td>\n",
       "      <td>[platform, enterprise-solutions, smart-contracts]</td>\n",
       "      <td>1.000000e+08</td>\n",
       "      <td>7.053883e+07</td>\n",
       "      <td>1.000000e+08</td>\n",
       "      <td>None</td>\n",
       "      <td>38</td>\n",
       "      <td>2021-03-20T11:13:04.000Z</td>\n",
       "      <td>{'USD': {'price': 45.24686276665593, 'volume_2...</td>\n",
       "      <td>45.246863</td>\n",
       "      <td>316.728039</td>\n",
       "      <td>7.000000e-08</td>\n",
       "    </tr>\n",
       "    <tr>\n",
       "      <th>15</th>\n",
       "      <td>STEEM</td>\n",
       "      <td>499.00000</td>\n",
       "      <td>1230</td>\n",
       "      <td>Steem</td>\n",
       "      <td>steem</td>\n",
       "      <td>36</td>\n",
       "      <td>2016-04-18T00:00:00.000Z</td>\n",
       "      <td>[media, content-creation]</td>\n",
       "      <td>NaN</td>\n",
       "      <td>3.762131e+08</td>\n",
       "      <td>3.931872e+08</td>\n",
       "      <td>None</td>\n",
       "      <td>171</td>\n",
       "      <td>2021-03-20T11:13:04.000Z</td>\n",
       "      <td>{'USD': {'price': 0.63170196647362, 'volume_24...</td>\n",
       "      <td>0.631702</td>\n",
       "      <td>315.219281</td>\n",
       "      <td>1.269116e-06</td>\n",
       "    </tr>\n",
       "    <tr>\n",
       "      <th>3</th>\n",
       "      <td>LTC</td>\n",
       "      <td>1.50000</td>\n",
       "      <td>2</td>\n",
       "      <td>Litecoin</td>\n",
       "      <td>litecoin</td>\n",
       "      <td>769</td>\n",
       "      <td>2013-04-28T00:00:00.000Z</td>\n",
       "      <td>[mineable, pow, scrypt, medium-of-exchange, bi...</td>\n",
       "      <td>8.400000e+07</td>\n",
       "      <td>6.669300e+07</td>\n",
       "      <td>6.669300e+07</td>\n",
       "      <td>{'id': 2502, 'name': 'Heco', 'symbol': 'HT', '...</td>\n",
       "      <td>9</td>\n",
       "      <td>2021-03-20T11:13:02.000Z</td>\n",
       "      <td>{'USD': {'price': 204.43432842063612, 'volume_...</td>\n",
       "      <td>204.434328</td>\n",
       "      <td>306.651493</td>\n",
       "      <td>2.249112e-08</td>\n",
       "    </tr>\n",
       "    <tr>\n",
       "      <th>7</th>\n",
       "      <td>XMR</td>\n",
       "      <td>1.00000</td>\n",
       "      <td>328</td>\n",
       "      <td>Monero</td>\n",
       "      <td>monero</td>\n",
       "      <td>184</td>\n",
       "      <td>2014-05-21T00:00:00.000Z</td>\n",
       "      <td>[mineable, pow, medium-of-exchange, ringct]</td>\n",
       "      <td>NaN</td>\n",
       "      <td>1.786697e+07</td>\n",
       "      <td>1.786697e+07</td>\n",
       "      <td>None</td>\n",
       "      <td>25</td>\n",
       "      <td>2021-03-20T11:13:05.000Z</td>\n",
       "      <td>{'USD': {'price': 236.49034204395596, 'volume_...</td>\n",
       "      <td>236.490342</td>\n",
       "      <td>236.490342</td>\n",
       "      <td>5.596919e-08</td>\n",
       "    </tr>\n",
       "    <tr>\n",
       "      <th>10</th>\n",
       "      <td>NANO</td>\n",
       "      <td>42.00000</td>\n",
       "      <td>1567</td>\n",
       "      <td>Nano</td>\n",
       "      <td>nano</td>\n",
       "      <td>56</td>\n",
       "      <td>2017-03-06T00:00:00.000Z</td>\n",
       "      <td>[pow, blake2b, medium-of-exchange, payments]</td>\n",
       "      <td>1.332483e+08</td>\n",
       "      <td>1.332483e+08</td>\n",
       "      <td>1.332483e+08</td>\n",
       "      <td>None</td>\n",
       "      <td>98</td>\n",
       "      <td>2021-03-20T11:13:06.000Z</td>\n",
       "      <td>{'USD': {'price': 5.2707062945197, 'volume_24h...</td>\n",
       "      <td>5.270706</td>\n",
       "      <td>221.369664</td>\n",
       "      <td>3.152010e-07</td>\n",
       "    </tr>\n",
       "    <tr>\n",
       "      <th>11</th>\n",
       "      <td>PIVX</td>\n",
       "      <td>123.00000</td>\n",
       "      <td>1169</td>\n",
       "      <td>PIVX</td>\n",
       "      <td>pivx</td>\n",
       "      <td>24</td>\n",
       "      <td>2016-02-13T00:00:00.000Z</td>\n",
       "      <td>[pos, medium-of-exchange, store-of-value, priv...</td>\n",
       "      <td>NaN</td>\n",
       "      <td>6.518059e+07</td>\n",
       "      <td>6.518059e+07</td>\n",
       "      <td>None</td>\n",
       "      <td>373</td>\n",
       "      <td>2021-03-20T11:13:03.000Z</td>\n",
       "      <td>{'USD': {'price': 1.47495017551526, 'volume_24...</td>\n",
       "      <td>1.474950</td>\n",
       "      <td>181.418872</td>\n",
       "      <td>1.887065e-06</td>\n",
       "    </tr>\n",
       "    <tr>\n",
       "      <th>8</th>\n",
       "      <td>LSK</td>\n",
       "      <td>12.00000</td>\n",
       "      <td>1214</td>\n",
       "      <td>Lisk</td>\n",
       "      <td>lisk</td>\n",
       "      <td>60</td>\n",
       "      <td>2016-04-06T00:00:00.000Z</td>\n",
       "      <td>[dpos, platform, enterprise-solutions, smart-c...</td>\n",
       "      <td>NaN</td>\n",
       "      <td>1.275609e+08</td>\n",
       "      <td>1.434961e+08</td>\n",
       "      <td>None</td>\n",
       "      <td>116</td>\n",
       "      <td>2021-03-20T11:13:04.000Z</td>\n",
       "      <td>{'USD': {'price': 4.12189426343539, 'volume_24...</td>\n",
       "      <td>4.121894</td>\n",
       "      <td>49.462731</td>\n",
       "      <td>8.362597e-08</td>\n",
       "    </tr>\n",
       "    <tr>\n",
       "      <th>12</th>\n",
       "      <td>ARK</td>\n",
       "      <td>22.00000</td>\n",
       "      <td>1586</td>\n",
       "      <td>Ark</td>\n",
       "      <td>ark</td>\n",
       "      <td>22</td>\n",
       "      <td>2017-03-22T00:00:00.000Z</td>\n",
       "      <td>[dpos, marketplace, payments, state-channels]</td>\n",
       "      <td>NaN</td>\n",
       "      <td>1.277286e+08</td>\n",
       "      <td>1.558495e+08</td>\n",
       "      <td>None</td>\n",
       "      <td>179</td>\n",
       "      <td>2021-03-20T11:13:06.000Z</td>\n",
       "      <td>{'USD': {'price': 1.65608751091017, 'volume_24...</td>\n",
       "      <td>1.656088</td>\n",
       "      <td>36.433925</td>\n",
       "      <td>1.411618e-07</td>\n",
       "    </tr>\n",
       "    <tr>\n",
       "      <th>6</th>\n",
       "      <td>DASH</td>\n",
       "      <td>0.10000</td>\n",
       "      <td>131</td>\n",
       "      <td>Dash</td>\n",
       "      <td>dash</td>\n",
       "      <td>373</td>\n",
       "      <td>2014-02-14T00:00:00.000Z</td>\n",
       "      <td>[mineable, hybrid-pow-pos, x11, medium-of-exch...</td>\n",
       "      <td>1.890000e+07</td>\n",
       "      <td>1.003252e+07</td>\n",
       "      <td>1.003252e+07</td>\n",
       "      <td>None</td>\n",
       "      <td>44</td>\n",
       "      <td>2021-03-20T11:13:03.000Z</td>\n",
       "      <td>{'USD': {'price': 233.6740131581541, 'volume_2...</td>\n",
       "      <td>233.674013</td>\n",
       "      <td>23.367401</td>\n",
       "      <td>9.967581e-09</td>\n",
       "    </tr>\n",
       "    <tr>\n",
       "      <th>1</th>\n",
       "      <td>BCH</td>\n",
       "      <td>0.01337</td>\n",
       "      <td>1831</td>\n",
       "      <td>Bitcoin Cash</td>\n",
       "      <td>bitcoin-cash</td>\n",
       "      <td>595</td>\n",
       "      <td>2017-07-23T00:00:00.000Z</td>\n",
       "      <td>[mineable, marketplace, enterprise-solutions, ...</td>\n",
       "      <td>2.100000e+07</td>\n",
       "      <td>1.868464e+07</td>\n",
       "      <td>1.868464e+07</td>\n",
       "      <td>{'id': 2502, 'name': 'Heco', 'symbol': 'HT', '...</td>\n",
       "      <td>11</td>\n",
       "      <td>2021-03-20T11:12:08.000Z</td>\n",
       "      <td>{'USD': {'price': 549.1813250656882, 'volume_2...</td>\n",
       "      <td>549.181325</td>\n",
       "      <td>7.342554</td>\n",
       "      <td>7.155611e-10</td>\n",
       "    </tr>\n",
       "    <tr>\n",
       "      <th>9</th>\n",
       "      <td>OMG</td>\n",
       "      <td>1.10000</td>\n",
       "      <td>1808</td>\n",
       "      <td>OMG Network</td>\n",
       "      <td>omg</td>\n",
       "      <td>269</td>\n",
       "      <td>2017-07-14T00:00:00.000Z</td>\n",
       "      <td>[medium-of-exchange, payments, state-channels]</td>\n",
       "      <td>1.402454e+08</td>\n",
       "      <td>1.402454e+08</td>\n",
       "      <td>1.402454e+08</td>\n",
       "      <td>None</td>\n",
       "      <td>88</td>\n",
       "      <td>2021-03-20T11:12:08.000Z</td>\n",
       "      <td>{'USD': {'price': 6.00131910890228, 'volume_24...</td>\n",
       "      <td>6.001319</td>\n",
       "      <td>6.601451</td>\n",
       "      <td>7.843395e-09</td>\n",
       "    </tr>\n",
       "    <tr>\n",
       "      <th>5</th>\n",
       "      <td>XRP</td>\n",
       "      <td>13.00000</td>\n",
       "      <td>52</td>\n",
       "      <td>XRP</td>\n",
       "      <td>xrp</td>\n",
       "      <td>681</td>\n",
       "      <td>2013-08-04T00:00:00.000Z</td>\n",
       "      <td>[medium-of-exchange, enterprise-solutions, bin...</td>\n",
       "      <td>1.000000e+11</td>\n",
       "      <td>4.540403e+10</td>\n",
       "      <td>9.999083e+10</td>\n",
       "      <td>None</td>\n",
       "      <td>7</td>\n",
       "      <td>2021-03-20T11:13:03.000Z</td>\n",
       "      <td>{'USD': {'price': 0.50391619809541, 'volume_24...</td>\n",
       "      <td>0.503916</td>\n",
       "      <td>6.550911</td>\n",
       "      <td>1.300119e-10</td>\n",
       "    </tr>\n",
       "    <tr>\n",
       "      <th>14</th>\n",
       "      <td>GAS</td>\n",
       "      <td>0.01000</td>\n",
       "      <td>1785</td>\n",
       "      <td>Gas</td>\n",
       "      <td>gas</td>\n",
       "      <td>52</td>\n",
       "      <td>2017-07-06T00:00:00.000Z</td>\n",
       "      <td>[medium-of-exchange, payments, smart-contracts]</td>\n",
       "      <td>1.000000e+08</td>\n",
       "      <td>1.012838e+07</td>\n",
       "      <td>1.719038e+07</td>\n",
       "      <td>{'id': 1376, 'name': 'Neo', 'symbol': 'NEO', '...</td>\n",
       "      <td>319</td>\n",
       "      <td>2021-03-20T11:12:08.000Z</td>\n",
       "      <td>{'USD': {'price': 12.45857696459842, 'volume_2...</td>\n",
       "      <td>12.458577</td>\n",
       "      <td>0.124586</td>\n",
       "      <td>5.817208e-10</td>\n",
       "    </tr>\n",
       "  </tbody>\n",
       "</table>\n",
       "</div>"
      ],
      "text/plain": [
       "   symbol     amount    id          name          slug  num_market_pairs  \\\n",
       "0     BTC    0.31337     1       Bitcoin       bitcoin              9893   \n",
       "2     ETH    3.00000  1027      Ethereum      ethereum              6247   \n",
       "4   MIOTA  777.00000  1720          IOTA          iota                71   \n",
       "13    NEO    7.00000  1376           Neo           neo               276   \n",
       "15  STEEM  499.00000  1230         Steem         steem                36   \n",
       "3     LTC    1.50000     2      Litecoin      litecoin               769   \n",
       "7     XMR    1.00000   328        Monero        monero               184   \n",
       "10   NANO   42.00000  1567          Nano          nano                56   \n",
       "11   PIVX  123.00000  1169          PIVX          pivx                24   \n",
       "8     LSK   12.00000  1214          Lisk          lisk                60   \n",
       "12    ARK   22.00000  1586           Ark           ark                22   \n",
       "6    DASH    0.10000   131          Dash          dash               373   \n",
       "1     BCH    0.01337  1831  Bitcoin Cash  bitcoin-cash               595   \n",
       "9     OMG    1.10000  1808   OMG Network           omg               269   \n",
       "5     XRP   13.00000    52           XRP           xrp               681   \n",
       "14    GAS    0.01000  1785           Gas           gas                52   \n",
       "\n",
       "                  date_added  \\\n",
       "0   2013-04-28T00:00:00.000Z   \n",
       "2   2015-08-07T00:00:00.000Z   \n",
       "4   2017-06-13T00:00:00.000Z   \n",
       "13  2016-09-08T00:00:00.000Z   \n",
       "15  2016-04-18T00:00:00.000Z   \n",
       "3   2013-04-28T00:00:00.000Z   \n",
       "7   2014-05-21T00:00:00.000Z   \n",
       "10  2017-03-06T00:00:00.000Z   \n",
       "11  2016-02-13T00:00:00.000Z   \n",
       "8   2016-04-06T00:00:00.000Z   \n",
       "12  2017-03-22T00:00:00.000Z   \n",
       "6   2014-02-14T00:00:00.000Z   \n",
       "1   2017-07-23T00:00:00.000Z   \n",
       "9   2017-07-14T00:00:00.000Z   \n",
       "5   2013-08-04T00:00:00.000Z   \n",
       "14  2017-07-06T00:00:00.000Z   \n",
       "\n",
       "                                                 tags    max_supply  \\\n",
       "0   [mineable, pow, sha-256, store-of-value, state...  2.100000e+07   \n",
       "2   [mineable, pow, smart-contracts, ethereum, coi...           NaN   \n",
       "4     [dag, medium-of-exchange, iot, sharing-economy]  2.779530e+09   \n",
       "13  [platform, enterprise-solutions, smart-contracts]  1.000000e+08   \n",
       "15                          [media, content-creation]           NaN   \n",
       "3   [mineable, pow, scrypt, medium-of-exchange, bi...  8.400000e+07   \n",
       "7         [mineable, pow, medium-of-exchange, ringct]           NaN   \n",
       "10       [pow, blake2b, medium-of-exchange, payments]  1.332483e+08   \n",
       "11  [pos, medium-of-exchange, store-of-value, priv...           NaN   \n",
       "8   [dpos, platform, enterprise-solutions, smart-c...           NaN   \n",
       "12      [dpos, marketplace, payments, state-channels]           NaN   \n",
       "6   [mineable, hybrid-pow-pos, x11, medium-of-exch...  1.890000e+07   \n",
       "1   [mineable, marketplace, enterprise-solutions, ...  2.100000e+07   \n",
       "9      [medium-of-exchange, payments, state-channels]  1.402454e+08   \n",
       "5   [medium-of-exchange, enterprise-solutions, bin...  1.000000e+11   \n",
       "14    [medium-of-exchange, payments, smart-contracts]  1.000000e+08   \n",
       "\n",
       "    circulating_supply  total_supply  \\\n",
       "0         1.865906e+07  1.865906e+07   \n",
       "2         1.151261e+08  1.151261e+08   \n",
       "4         2.779530e+09  2.779530e+09   \n",
       "13        7.053883e+07  1.000000e+08   \n",
       "15        3.762131e+08  3.931872e+08   \n",
       "3         6.669300e+07  6.669300e+07   \n",
       "7         1.786697e+07  1.786697e+07   \n",
       "10        1.332483e+08  1.332483e+08   \n",
       "11        6.518059e+07  6.518059e+07   \n",
       "8         1.275609e+08  1.434961e+08   \n",
       "12        1.277286e+08  1.558495e+08   \n",
       "6         1.003252e+07  1.003252e+07   \n",
       "1         1.868464e+07  1.868464e+07   \n",
       "9         1.402454e+08  1.402454e+08   \n",
       "5         4.540403e+10  9.999083e+10   \n",
       "14        1.012838e+07  1.719038e+07   \n",
       "\n",
       "                                             platform  cmc_rank  \\\n",
       "0                                                None         1   \n",
       "2   {'id': 2502, 'name': 'Heco', 'symbol': 'HT', '...         2   \n",
       "4                                                None        28   \n",
       "13                                               None        38   \n",
       "15                                               None       171   \n",
       "3   {'id': 2502, 'name': 'Heco', 'symbol': 'HT', '...         9   \n",
       "7                                                None        25   \n",
       "10                                               None        98   \n",
       "11                                               None       373   \n",
       "8                                                None       116   \n",
       "12                                               None       179   \n",
       "6                                                None        44   \n",
       "1   {'id': 2502, 'name': 'Heco', 'symbol': 'HT', '...        11   \n",
       "9                                                None        88   \n",
       "5                                                None         7   \n",
       "14  {'id': 1376, 'name': 'Neo', 'symbol': 'NEO', '...       319   \n",
       "\n",
       "                last_updated  \\\n",
       "0   2021-03-20T11:13:02.000Z   \n",
       "2   2021-03-20T11:13:02.000Z   \n",
       "4   2021-03-20T11:12:07.000Z   \n",
       "13  2021-03-20T11:13:04.000Z   \n",
       "15  2021-03-20T11:13:04.000Z   \n",
       "3   2021-03-20T11:13:02.000Z   \n",
       "7   2021-03-20T11:13:05.000Z   \n",
       "10  2021-03-20T11:13:06.000Z   \n",
       "11  2021-03-20T11:13:03.000Z   \n",
       "8   2021-03-20T11:13:04.000Z   \n",
       "12  2021-03-20T11:13:06.000Z   \n",
       "6   2021-03-20T11:13:03.000Z   \n",
       "1   2021-03-20T11:12:08.000Z   \n",
       "9   2021-03-20T11:12:08.000Z   \n",
       "5   2021-03-20T11:13:03.000Z   \n",
       "14  2021-03-20T11:12:08.000Z   \n",
       "\n",
       "                                                quote     price_usd  \\\n",
       "0   {'USD': {'price': 58976.32978384015, 'volume_2...  58976.329784   \n",
       "2   {'USD': {'price': 1842.005493712207, 'volume_2...   1842.005494   \n",
       "4   {'USD': {'price': 1.45300671164127, 'volume_24...      1.453007   \n",
       "13  {'USD': {'price': 45.24686276665593, 'volume_2...     45.246863   \n",
       "15  {'USD': {'price': 0.63170196647362, 'volume_24...      0.631702   \n",
       "3   {'USD': {'price': 204.43432842063612, 'volume_...    204.434328   \n",
       "7   {'USD': {'price': 236.49034204395596, 'volume_...    236.490342   \n",
       "10  {'USD': {'price': 5.2707062945197, 'volume_24h...      5.270706   \n",
       "11  {'USD': {'price': 1.47495017551526, 'volume_24...      1.474950   \n",
       "8   {'USD': {'price': 4.12189426343539, 'volume_24...      4.121894   \n",
       "12  {'USD': {'price': 1.65608751091017, 'volume_24...      1.656088   \n",
       "6   {'USD': {'price': 233.6740131581541, 'volume_2...    233.674013   \n",
       "1   {'USD': {'price': 549.1813250656882, 'volume_2...    549.181325   \n",
       "9   {'USD': {'price': 6.00131910890228, 'volume_24...      6.001319   \n",
       "5   {'USD': {'price': 0.50391619809541, 'volume_24...      0.503916   \n",
       "14  {'USD': {'price': 12.45857696459842, 'volume_2...     12.458577   \n",
       "\n",
       "       value_usd     coinshare  \n",
       "0   18481.412464  1.679452e-08  \n",
       "2    5526.016481  2.605839e-08  \n",
       "4    1128.986215  2.795436e-07  \n",
       "13    316.728039  7.000000e-08  \n",
       "15    315.219281  1.269116e-06  \n",
       "3     306.651493  2.249112e-08  \n",
       "7     236.490342  5.596919e-08  \n",
       "10    221.369664  3.152010e-07  \n",
       "11    181.418872  1.887065e-06  \n",
       "8      49.462731  8.362597e-08  \n",
       "12     36.433925  1.411618e-07  \n",
       "6      23.367401  9.967581e-09  \n",
       "1       7.342554  7.155611e-10  \n",
       "9       6.601451  7.843395e-09  \n",
       "5       6.550911  1.300119e-10  \n",
       "14      0.124586  5.817208e-10  "
      ]
     },
     "execution_count": 5,
     "metadata": {},
     "output_type": "execute_result"
    }
   ],
   "source": [
    "# merge the API and blockfolio data and sort by investment value\n",
    "merged_data = block_folio.merge(market_data, how='left')\n",
    "merged_data['value_usd'] = merged_data.amount * merged_data.price_usd\n",
    "merged_data['coinshare'] = merged_data.amount / merged_data.total_supply\n",
    "merged_data = merged_data.sort_values('value_usd', ascending=False)\n",
    "merged_data"
   ]
  },
  {
   "cell_type": "markdown",
   "metadata": {},
   "source": [
    "### Your Blockfolio in numbers and graphs!\n"
   ]
  },
  {
   "cell_type": "code",
   "execution_count": 6,
   "metadata": {},
   "outputs": [
    {
     "name": "stdout",
     "output_type": "stream",
     "text": [
      "Your blockfolio is currently (i.e 2021-03-20 12:13 PM) worth 26844.18 USD!\n"
     ]
    }
   ],
   "source": [
    "networth = 'Your blockfolio is currently (i.e {}) worth {:.2f} USD!'.format(now.strftime('%Y-%m-%d %I:%M %p'), \n",
    "                                                                        merged_data.value_usd.sum())\n",
    "print(networth)"
   ]
  },
  {
   "cell_type": "markdown",
   "metadata": {},
   "source": [
    "#### Net Worth\n",
    "\n",
    "Let's plot the worth of each asset in descending order:"
   ]
  },
  {
   "cell_type": "code",
   "execution_count": 7,
   "metadata": {
    "scrolled": false
   },
   "outputs": [
    {
     "data": {
      "application/vnd.plotly.v1+json": {
       "config": {
        "linkText": "Export to plot.ly",
        "plotlyServerURL": "https://plot.ly",
        "showLink": false
       },
       "data": [
        {
         "marker": {
          "color": "rgb(158,202,225)",
          "line": {
           "color": "rgb(8,48,107)",
           "width": 1.5
          }
         },
         "type": "bar",
         "x": [
          "BTC",
          "ETH",
          "MIOTA",
          "NEO",
          "STEEM",
          "LTC",
          "XMR",
          "NANO",
          "PIVX",
          "LSK",
          "ARK",
          "DASH",
          "BCH",
          "OMG",
          "XRP",
          "GAS"
         ],
         "y": [
          18481.412464361987,
          5526.016481136621,
          1128.9862149452667,
          316.72803936659153,
          315.21928127033635,
          306.6514926309542,
          236.49034204395596,
          221.3696643698274,
          181.418871588377,
          49.46273116122468,
          36.43392524002374,
          23.367401315815414,
          7.3425543161282505,
          6.601451019792508,
          6.55091057524033,
          0.1245857696459842
         ]
        }
       ],
       "layout": {
        "template": {
         "data": {
          "bar": [
           {
            "error_x": {
             "color": "#2a3f5f"
            },
            "error_y": {
             "color": "#2a3f5f"
            },
            "marker": {
             "line": {
              "color": "#E5ECF6",
              "width": 0.5
             }
            },
            "type": "bar"
           }
          ],
          "barpolar": [
           {
            "marker": {
             "line": {
              "color": "#E5ECF6",
              "width": 0.5
             }
            },
            "type": "barpolar"
           }
          ],
          "carpet": [
           {
            "aaxis": {
             "endlinecolor": "#2a3f5f",
             "gridcolor": "white",
             "linecolor": "white",
             "minorgridcolor": "white",
             "startlinecolor": "#2a3f5f"
            },
            "baxis": {
             "endlinecolor": "#2a3f5f",
             "gridcolor": "white",
             "linecolor": "white",
             "minorgridcolor": "white",
             "startlinecolor": "#2a3f5f"
            },
            "type": "carpet"
           }
          ],
          "choropleth": [
           {
            "colorbar": {
             "outlinewidth": 0,
             "ticks": ""
            },
            "type": "choropleth"
           }
          ],
          "contour": [
           {
            "colorbar": {
             "outlinewidth": 0,
             "ticks": ""
            },
            "colorscale": [
             [
              0,
              "#0d0887"
             ],
             [
              0.1111111111111111,
              "#46039f"
             ],
             [
              0.2222222222222222,
              "#7201a8"
             ],
             [
              0.3333333333333333,
              "#9c179e"
             ],
             [
              0.4444444444444444,
              "#bd3786"
             ],
             [
              0.5555555555555556,
              "#d8576b"
             ],
             [
              0.6666666666666666,
              "#ed7953"
             ],
             [
              0.7777777777777778,
              "#fb9f3a"
             ],
             [
              0.8888888888888888,
              "#fdca26"
             ],
             [
              1,
              "#f0f921"
             ]
            ],
            "type": "contour"
           }
          ],
          "contourcarpet": [
           {
            "colorbar": {
             "outlinewidth": 0,
             "ticks": ""
            },
            "type": "contourcarpet"
           }
          ],
          "heatmap": [
           {
            "colorbar": {
             "outlinewidth": 0,
             "ticks": ""
            },
            "colorscale": [
             [
              0,
              "#0d0887"
             ],
             [
              0.1111111111111111,
              "#46039f"
             ],
             [
              0.2222222222222222,
              "#7201a8"
             ],
             [
              0.3333333333333333,
              "#9c179e"
             ],
             [
              0.4444444444444444,
              "#bd3786"
             ],
             [
              0.5555555555555556,
              "#d8576b"
             ],
             [
              0.6666666666666666,
              "#ed7953"
             ],
             [
              0.7777777777777778,
              "#fb9f3a"
             ],
             [
              0.8888888888888888,
              "#fdca26"
             ],
             [
              1,
              "#f0f921"
             ]
            ],
            "type": "heatmap"
           }
          ],
          "heatmapgl": [
           {
            "colorbar": {
             "outlinewidth": 0,
             "ticks": ""
            },
            "colorscale": [
             [
              0,
              "#0d0887"
             ],
             [
              0.1111111111111111,
              "#46039f"
             ],
             [
              0.2222222222222222,
              "#7201a8"
             ],
             [
              0.3333333333333333,
              "#9c179e"
             ],
             [
              0.4444444444444444,
              "#bd3786"
             ],
             [
              0.5555555555555556,
              "#d8576b"
             ],
             [
              0.6666666666666666,
              "#ed7953"
             ],
             [
              0.7777777777777778,
              "#fb9f3a"
             ],
             [
              0.8888888888888888,
              "#fdca26"
             ],
             [
              1,
              "#f0f921"
             ]
            ],
            "type": "heatmapgl"
           }
          ],
          "histogram": [
           {
            "marker": {
             "colorbar": {
              "outlinewidth": 0,
              "ticks": ""
             }
            },
            "type": "histogram"
           }
          ],
          "histogram2d": [
           {
            "colorbar": {
             "outlinewidth": 0,
             "ticks": ""
            },
            "colorscale": [
             [
              0,
              "#0d0887"
             ],
             [
              0.1111111111111111,
              "#46039f"
             ],
             [
              0.2222222222222222,
              "#7201a8"
             ],
             [
              0.3333333333333333,
              "#9c179e"
             ],
             [
              0.4444444444444444,
              "#bd3786"
             ],
             [
              0.5555555555555556,
              "#d8576b"
             ],
             [
              0.6666666666666666,
              "#ed7953"
             ],
             [
              0.7777777777777778,
              "#fb9f3a"
             ],
             [
              0.8888888888888888,
              "#fdca26"
             ],
             [
              1,
              "#f0f921"
             ]
            ],
            "type": "histogram2d"
           }
          ],
          "histogram2dcontour": [
           {
            "colorbar": {
             "outlinewidth": 0,
             "ticks": ""
            },
            "colorscale": [
             [
              0,
              "#0d0887"
             ],
             [
              0.1111111111111111,
              "#46039f"
             ],
             [
              0.2222222222222222,
              "#7201a8"
             ],
             [
              0.3333333333333333,
              "#9c179e"
             ],
             [
              0.4444444444444444,
              "#bd3786"
             ],
             [
              0.5555555555555556,
              "#d8576b"
             ],
             [
              0.6666666666666666,
              "#ed7953"
             ],
             [
              0.7777777777777778,
              "#fb9f3a"
             ],
             [
              0.8888888888888888,
              "#fdca26"
             ],
             [
              1,
              "#f0f921"
             ]
            ],
            "type": "histogram2dcontour"
           }
          ],
          "mesh3d": [
           {
            "colorbar": {
             "outlinewidth": 0,
             "ticks": ""
            },
            "type": "mesh3d"
           }
          ],
          "parcoords": [
           {
            "line": {
             "colorbar": {
              "outlinewidth": 0,
              "ticks": ""
             }
            },
            "type": "parcoords"
           }
          ],
          "pie": [
           {
            "automargin": true,
            "type": "pie"
           }
          ],
          "scatter": [
           {
            "marker": {
             "colorbar": {
              "outlinewidth": 0,
              "ticks": ""
             }
            },
            "type": "scatter"
           }
          ],
          "scatter3d": [
           {
            "line": {
             "colorbar": {
              "outlinewidth": 0,
              "ticks": ""
             }
            },
            "marker": {
             "colorbar": {
              "outlinewidth": 0,
              "ticks": ""
             }
            },
            "type": "scatter3d"
           }
          ],
          "scattercarpet": [
           {
            "marker": {
             "colorbar": {
              "outlinewidth": 0,
              "ticks": ""
             }
            },
            "type": "scattercarpet"
           }
          ],
          "scattergeo": [
           {
            "marker": {
             "colorbar": {
              "outlinewidth": 0,
              "ticks": ""
             }
            },
            "type": "scattergeo"
           }
          ],
          "scattergl": [
           {
            "marker": {
             "colorbar": {
              "outlinewidth": 0,
              "ticks": ""
             }
            },
            "type": "scattergl"
           }
          ],
          "scattermapbox": [
           {
            "marker": {
             "colorbar": {
              "outlinewidth": 0,
              "ticks": ""
             }
            },
            "type": "scattermapbox"
           }
          ],
          "scatterpolar": [
           {
            "marker": {
             "colorbar": {
              "outlinewidth": 0,
              "ticks": ""
             }
            },
            "type": "scatterpolar"
           }
          ],
          "scatterpolargl": [
           {
            "marker": {
             "colorbar": {
              "outlinewidth": 0,
              "ticks": ""
             }
            },
            "type": "scatterpolargl"
           }
          ],
          "scatterternary": [
           {
            "marker": {
             "colorbar": {
              "outlinewidth": 0,
              "ticks": ""
             }
            },
            "type": "scatterternary"
           }
          ],
          "surface": [
           {
            "colorbar": {
             "outlinewidth": 0,
             "ticks": ""
            },
            "colorscale": [
             [
              0,
              "#0d0887"
             ],
             [
              0.1111111111111111,
              "#46039f"
             ],
             [
              0.2222222222222222,
              "#7201a8"
             ],
             [
              0.3333333333333333,
              "#9c179e"
             ],
             [
              0.4444444444444444,
              "#bd3786"
             ],
             [
              0.5555555555555556,
              "#d8576b"
             ],
             [
              0.6666666666666666,
              "#ed7953"
             ],
             [
              0.7777777777777778,
              "#fb9f3a"
             ],
             [
              0.8888888888888888,
              "#fdca26"
             ],
             [
              1,
              "#f0f921"
             ]
            ],
            "type": "surface"
           }
          ],
          "table": [
           {
            "cells": {
             "fill": {
              "color": "#EBF0F8"
             },
             "line": {
              "color": "white"
             }
            },
            "header": {
             "fill": {
              "color": "#C8D4E3"
             },
             "line": {
              "color": "white"
             }
            },
            "type": "table"
           }
          ]
         },
         "layout": {
          "annotationdefaults": {
           "arrowcolor": "#2a3f5f",
           "arrowhead": 0,
           "arrowwidth": 1
          },
          "autotypenumbers": "strict",
          "coloraxis": {
           "colorbar": {
            "outlinewidth": 0,
            "ticks": ""
           }
          },
          "colorscale": {
           "diverging": [
            [
             0,
             "#8e0152"
            ],
            [
             0.1,
             "#c51b7d"
            ],
            [
             0.2,
             "#de77ae"
            ],
            [
             0.3,
             "#f1b6da"
            ],
            [
             0.4,
             "#fde0ef"
            ],
            [
             0.5,
             "#f7f7f7"
            ],
            [
             0.6,
             "#e6f5d0"
            ],
            [
             0.7,
             "#b8e186"
            ],
            [
             0.8,
             "#7fbc41"
            ],
            [
             0.9,
             "#4d9221"
            ],
            [
             1,
             "#276419"
            ]
           ],
           "sequential": [
            [
             0,
             "#0d0887"
            ],
            [
             0.1111111111111111,
             "#46039f"
            ],
            [
             0.2222222222222222,
             "#7201a8"
            ],
            [
             0.3333333333333333,
             "#9c179e"
            ],
            [
             0.4444444444444444,
             "#bd3786"
            ],
            [
             0.5555555555555556,
             "#d8576b"
            ],
            [
             0.6666666666666666,
             "#ed7953"
            ],
            [
             0.7777777777777778,
             "#fb9f3a"
            ],
            [
             0.8888888888888888,
             "#fdca26"
            ],
            [
             1,
             "#f0f921"
            ]
           ],
           "sequentialminus": [
            [
             0,
             "#0d0887"
            ],
            [
             0.1111111111111111,
             "#46039f"
            ],
            [
             0.2222222222222222,
             "#7201a8"
            ],
            [
             0.3333333333333333,
             "#9c179e"
            ],
            [
             0.4444444444444444,
             "#bd3786"
            ],
            [
             0.5555555555555556,
             "#d8576b"
            ],
            [
             0.6666666666666666,
             "#ed7953"
            ],
            [
             0.7777777777777778,
             "#fb9f3a"
            ],
            [
             0.8888888888888888,
             "#fdca26"
            ],
            [
             1,
             "#f0f921"
            ]
           ]
          },
          "colorway": [
           "#636efa",
           "#EF553B",
           "#00cc96",
           "#ab63fa",
           "#FFA15A",
           "#19d3f3",
           "#FF6692",
           "#B6E880",
           "#FF97FF",
           "#FECB52"
          ],
          "font": {
           "color": "#2a3f5f"
          },
          "geo": {
           "bgcolor": "white",
           "lakecolor": "white",
           "landcolor": "#E5ECF6",
           "showlakes": true,
           "showland": true,
           "subunitcolor": "white"
          },
          "hoverlabel": {
           "align": "left"
          },
          "hovermode": "closest",
          "mapbox": {
           "style": "light"
          },
          "paper_bgcolor": "white",
          "plot_bgcolor": "#E5ECF6",
          "polar": {
           "angularaxis": {
            "gridcolor": "white",
            "linecolor": "white",
            "ticks": ""
           },
           "bgcolor": "#E5ECF6",
           "radialaxis": {
            "gridcolor": "white",
            "linecolor": "white",
            "ticks": ""
           }
          },
          "scene": {
           "xaxis": {
            "backgroundcolor": "#E5ECF6",
            "gridcolor": "white",
            "gridwidth": 2,
            "linecolor": "white",
            "showbackground": true,
            "ticks": "",
            "zerolinecolor": "white"
           },
           "yaxis": {
            "backgroundcolor": "#E5ECF6",
            "gridcolor": "white",
            "gridwidth": 2,
            "linecolor": "white",
            "showbackground": true,
            "ticks": "",
            "zerolinecolor": "white"
           },
           "zaxis": {
            "backgroundcolor": "#E5ECF6",
            "gridcolor": "white",
            "gridwidth": 2,
            "linecolor": "white",
            "showbackground": true,
            "ticks": "",
            "zerolinecolor": "white"
           }
          },
          "shapedefaults": {
           "line": {
            "color": "#2a3f5f"
           }
          },
          "ternary": {
           "aaxis": {
            "gridcolor": "white",
            "linecolor": "white",
            "ticks": ""
           },
           "baxis": {
            "gridcolor": "white",
            "linecolor": "white",
            "ticks": ""
           },
           "bgcolor": "#E5ECF6",
           "caxis": {
            "gridcolor": "white",
            "linecolor": "white",
            "ticks": ""
           }
          },
          "title": {
           "x": 0.05
          },
          "xaxis": {
           "automargin": true,
           "gridcolor": "white",
           "linecolor": "white",
           "ticks": "",
           "title": {
            "standoff": 15
           },
           "zerolinecolor": "white",
           "zerolinewidth": 2
          },
          "yaxis": {
           "automargin": true,
           "gridcolor": "white",
           "linecolor": "white",
           "ticks": "",
           "title": {
            "standoff": 15
           },
           "zerolinecolor": "white",
           "zerolinewidth": 2
          }
         }
        },
        "title": {
         "text": "Blockfolio Networth in USD"
        },
        "xaxis": {
         "title": {
          "text": "Cryptocurrency"
         }
        },
        "yaxis": {
         "title": {
          "text": "USD"
         }
        }
       }
      },
      "text/html": [
       "<div>                            <div id=\"b139d7c3-a349-4699-bc91-eaa381a06729\" class=\"plotly-graph-div\" style=\"height:525px; width:100%;\"></div>            <script type=\"text/javascript\">                require([\"plotly\"], function(Plotly) {                    window.PLOTLYENV=window.PLOTLYENV || {};                                    if (document.getElementById(\"b139d7c3-a349-4699-bc91-eaa381a06729\")) {                    Plotly.newPlot(                        \"b139d7c3-a349-4699-bc91-eaa381a06729\",                        [{\"marker\": {\"color\": \"rgb(158,202,225)\", \"line\": {\"color\": \"rgb(8,48,107)\", \"width\": 1.5}}, \"type\": \"bar\", \"x\": [\"BTC\", \"ETH\", \"MIOTA\", \"NEO\", \"STEEM\", \"LTC\", \"XMR\", \"NANO\", \"PIVX\", \"LSK\", \"ARK\", \"DASH\", \"BCH\", \"OMG\", \"XRP\", \"GAS\"], \"y\": [18481.412464361987, 5526.016481136621, 1128.9862149452667, 316.72803936659153, 315.21928127033635, 306.6514926309542, 236.49034204395596, 221.3696643698274, 181.418871588377, 49.46273116122468, 36.43392524002374, 23.367401315815414, 7.3425543161282505, 6.601451019792508, 6.55091057524033, 0.1245857696459842]}],                        {\"template\": {\"data\": {\"bar\": [{\"error_x\": {\"color\": \"#2a3f5f\"}, \"error_y\": {\"color\": \"#2a3f5f\"}, \"marker\": {\"line\": {\"color\": \"#E5ECF6\", \"width\": 0.5}}, \"type\": \"bar\"}], \"barpolar\": [{\"marker\": {\"line\": {\"color\": \"#E5ECF6\", \"width\": 0.5}}, \"type\": \"barpolar\"}], \"carpet\": [{\"aaxis\": {\"endlinecolor\": \"#2a3f5f\", \"gridcolor\": \"white\", \"linecolor\": \"white\", \"minorgridcolor\": \"white\", \"startlinecolor\": \"#2a3f5f\"}, \"baxis\": {\"endlinecolor\": \"#2a3f5f\", \"gridcolor\": \"white\", \"linecolor\": \"white\", \"minorgridcolor\": \"white\", \"startlinecolor\": \"#2a3f5f\"}, \"type\": \"carpet\"}], \"choropleth\": [{\"colorbar\": {\"outlinewidth\": 0, \"ticks\": \"\"}, \"type\": \"choropleth\"}], \"contour\": [{\"colorbar\": {\"outlinewidth\": 0, \"ticks\": \"\"}, \"colorscale\": [[0.0, \"#0d0887\"], [0.1111111111111111, \"#46039f\"], [0.2222222222222222, \"#7201a8\"], [0.3333333333333333, \"#9c179e\"], [0.4444444444444444, \"#bd3786\"], [0.5555555555555556, \"#d8576b\"], [0.6666666666666666, \"#ed7953\"], [0.7777777777777778, \"#fb9f3a\"], [0.8888888888888888, \"#fdca26\"], [1.0, \"#f0f921\"]], \"type\": \"contour\"}], \"contourcarpet\": [{\"colorbar\": {\"outlinewidth\": 0, \"ticks\": \"\"}, \"type\": \"contourcarpet\"}], \"heatmap\": [{\"colorbar\": {\"outlinewidth\": 0, \"ticks\": \"\"}, \"colorscale\": [[0.0, \"#0d0887\"], [0.1111111111111111, \"#46039f\"], [0.2222222222222222, \"#7201a8\"], [0.3333333333333333, \"#9c179e\"], [0.4444444444444444, \"#bd3786\"], [0.5555555555555556, \"#d8576b\"], [0.6666666666666666, \"#ed7953\"], [0.7777777777777778, \"#fb9f3a\"], [0.8888888888888888, \"#fdca26\"], [1.0, \"#f0f921\"]], \"type\": \"heatmap\"}], \"heatmapgl\": [{\"colorbar\": {\"outlinewidth\": 0, \"ticks\": \"\"}, \"colorscale\": [[0.0, \"#0d0887\"], [0.1111111111111111, \"#46039f\"], [0.2222222222222222, \"#7201a8\"], [0.3333333333333333, \"#9c179e\"], [0.4444444444444444, \"#bd3786\"], [0.5555555555555556, \"#d8576b\"], [0.6666666666666666, \"#ed7953\"], [0.7777777777777778, \"#fb9f3a\"], [0.8888888888888888, \"#fdca26\"], [1.0, \"#f0f921\"]], \"type\": \"heatmapgl\"}], \"histogram\": [{\"marker\": {\"colorbar\": {\"outlinewidth\": 0, \"ticks\": \"\"}}, \"type\": \"histogram\"}], \"histogram2d\": [{\"colorbar\": {\"outlinewidth\": 0, \"ticks\": \"\"}, \"colorscale\": [[0.0, \"#0d0887\"], [0.1111111111111111, \"#46039f\"], [0.2222222222222222, \"#7201a8\"], [0.3333333333333333, \"#9c179e\"], [0.4444444444444444, \"#bd3786\"], [0.5555555555555556, \"#d8576b\"], [0.6666666666666666, \"#ed7953\"], [0.7777777777777778, \"#fb9f3a\"], [0.8888888888888888, \"#fdca26\"], [1.0, \"#f0f921\"]], \"type\": \"histogram2d\"}], \"histogram2dcontour\": [{\"colorbar\": {\"outlinewidth\": 0, \"ticks\": \"\"}, \"colorscale\": [[0.0, \"#0d0887\"], [0.1111111111111111, \"#46039f\"], [0.2222222222222222, \"#7201a8\"], [0.3333333333333333, \"#9c179e\"], [0.4444444444444444, \"#bd3786\"], [0.5555555555555556, \"#d8576b\"], [0.6666666666666666, \"#ed7953\"], [0.7777777777777778, \"#fb9f3a\"], [0.8888888888888888, \"#fdca26\"], [1.0, \"#f0f921\"]], \"type\": \"histogram2dcontour\"}], \"mesh3d\": [{\"colorbar\": {\"outlinewidth\": 0, \"ticks\": \"\"}, \"type\": \"mesh3d\"}], \"parcoords\": [{\"line\": {\"colorbar\": {\"outlinewidth\": 0, \"ticks\": \"\"}}, \"type\": \"parcoords\"}], \"pie\": [{\"automargin\": true, \"type\": \"pie\"}], \"scatter\": [{\"marker\": {\"colorbar\": {\"outlinewidth\": 0, \"ticks\": \"\"}}, \"type\": \"scatter\"}], \"scatter3d\": [{\"line\": {\"colorbar\": {\"outlinewidth\": 0, \"ticks\": \"\"}}, \"marker\": {\"colorbar\": {\"outlinewidth\": 0, \"ticks\": \"\"}}, \"type\": \"scatter3d\"}], \"scattercarpet\": [{\"marker\": {\"colorbar\": {\"outlinewidth\": 0, \"ticks\": \"\"}}, \"type\": \"scattercarpet\"}], \"scattergeo\": [{\"marker\": {\"colorbar\": {\"outlinewidth\": 0, \"ticks\": \"\"}}, \"type\": \"scattergeo\"}], \"scattergl\": [{\"marker\": {\"colorbar\": {\"outlinewidth\": 0, \"ticks\": \"\"}}, \"type\": \"scattergl\"}], \"scattermapbox\": [{\"marker\": {\"colorbar\": {\"outlinewidth\": 0, \"ticks\": \"\"}}, \"type\": \"scattermapbox\"}], \"scatterpolar\": [{\"marker\": {\"colorbar\": {\"outlinewidth\": 0, \"ticks\": \"\"}}, \"type\": \"scatterpolar\"}], \"scatterpolargl\": [{\"marker\": {\"colorbar\": {\"outlinewidth\": 0, \"ticks\": \"\"}}, \"type\": \"scatterpolargl\"}], \"scatterternary\": [{\"marker\": {\"colorbar\": {\"outlinewidth\": 0, \"ticks\": \"\"}}, \"type\": \"scatterternary\"}], \"surface\": [{\"colorbar\": {\"outlinewidth\": 0, \"ticks\": \"\"}, \"colorscale\": [[0.0, \"#0d0887\"], [0.1111111111111111, \"#46039f\"], [0.2222222222222222, \"#7201a8\"], [0.3333333333333333, \"#9c179e\"], [0.4444444444444444, \"#bd3786\"], [0.5555555555555556, \"#d8576b\"], [0.6666666666666666, \"#ed7953\"], [0.7777777777777778, \"#fb9f3a\"], [0.8888888888888888, \"#fdca26\"], [1.0, \"#f0f921\"]], \"type\": \"surface\"}], \"table\": [{\"cells\": {\"fill\": {\"color\": \"#EBF0F8\"}, \"line\": {\"color\": \"white\"}}, \"header\": {\"fill\": {\"color\": \"#C8D4E3\"}, \"line\": {\"color\": \"white\"}}, \"type\": \"table\"}]}, \"layout\": {\"annotationdefaults\": {\"arrowcolor\": \"#2a3f5f\", \"arrowhead\": 0, \"arrowwidth\": 1}, \"autotypenumbers\": \"strict\", \"coloraxis\": {\"colorbar\": {\"outlinewidth\": 0, \"ticks\": \"\"}}, \"colorscale\": {\"diverging\": [[0, \"#8e0152\"], [0.1, \"#c51b7d\"], [0.2, \"#de77ae\"], [0.3, \"#f1b6da\"], [0.4, \"#fde0ef\"], [0.5, \"#f7f7f7\"], [0.6, \"#e6f5d0\"], [0.7, \"#b8e186\"], [0.8, \"#7fbc41\"], [0.9, \"#4d9221\"], [1, \"#276419\"]], \"sequential\": [[0.0, \"#0d0887\"], [0.1111111111111111, \"#46039f\"], [0.2222222222222222, \"#7201a8\"], [0.3333333333333333, \"#9c179e\"], [0.4444444444444444, \"#bd3786\"], [0.5555555555555556, \"#d8576b\"], [0.6666666666666666, \"#ed7953\"], [0.7777777777777778, \"#fb9f3a\"], [0.8888888888888888, \"#fdca26\"], [1.0, \"#f0f921\"]], \"sequentialminus\": [[0.0, \"#0d0887\"], [0.1111111111111111, \"#46039f\"], [0.2222222222222222, \"#7201a8\"], [0.3333333333333333, \"#9c179e\"], [0.4444444444444444, \"#bd3786\"], [0.5555555555555556, \"#d8576b\"], [0.6666666666666666, \"#ed7953\"], [0.7777777777777778, \"#fb9f3a\"], [0.8888888888888888, \"#fdca26\"], [1.0, \"#f0f921\"]]}, \"colorway\": [\"#636efa\", \"#EF553B\", \"#00cc96\", \"#ab63fa\", \"#FFA15A\", \"#19d3f3\", \"#FF6692\", \"#B6E880\", \"#FF97FF\", \"#FECB52\"], \"font\": {\"color\": \"#2a3f5f\"}, \"geo\": {\"bgcolor\": \"white\", \"lakecolor\": \"white\", \"landcolor\": \"#E5ECF6\", \"showlakes\": true, \"showland\": true, \"subunitcolor\": \"white\"}, \"hoverlabel\": {\"align\": \"left\"}, \"hovermode\": \"closest\", \"mapbox\": {\"style\": \"light\"}, \"paper_bgcolor\": \"white\", \"plot_bgcolor\": \"#E5ECF6\", \"polar\": {\"angularaxis\": {\"gridcolor\": \"white\", \"linecolor\": \"white\", \"ticks\": \"\"}, \"bgcolor\": \"#E5ECF6\", \"radialaxis\": {\"gridcolor\": \"white\", \"linecolor\": \"white\", \"ticks\": \"\"}}, \"scene\": {\"xaxis\": {\"backgroundcolor\": \"#E5ECF6\", \"gridcolor\": \"white\", \"gridwidth\": 2, \"linecolor\": \"white\", \"showbackground\": true, \"ticks\": \"\", \"zerolinecolor\": \"white\"}, \"yaxis\": {\"backgroundcolor\": \"#E5ECF6\", \"gridcolor\": \"white\", \"gridwidth\": 2, \"linecolor\": \"white\", \"showbackground\": true, \"ticks\": \"\", \"zerolinecolor\": \"white\"}, \"zaxis\": {\"backgroundcolor\": \"#E5ECF6\", \"gridcolor\": \"white\", \"gridwidth\": 2, \"linecolor\": \"white\", \"showbackground\": true, \"ticks\": \"\", \"zerolinecolor\": \"white\"}}, \"shapedefaults\": {\"line\": {\"color\": \"#2a3f5f\"}}, \"ternary\": {\"aaxis\": {\"gridcolor\": \"white\", \"linecolor\": \"white\", \"ticks\": \"\"}, \"baxis\": {\"gridcolor\": \"white\", \"linecolor\": \"white\", \"ticks\": \"\"}, \"bgcolor\": \"#E5ECF6\", \"caxis\": {\"gridcolor\": \"white\", \"linecolor\": \"white\", \"ticks\": \"\"}}, \"title\": {\"x\": 0.05}, \"xaxis\": {\"automargin\": true, \"gridcolor\": \"white\", \"linecolor\": \"white\", \"ticks\": \"\", \"title\": {\"standoff\": 15}, \"zerolinecolor\": \"white\", \"zerolinewidth\": 2}, \"yaxis\": {\"automargin\": true, \"gridcolor\": \"white\", \"linecolor\": \"white\", \"ticks\": \"\", \"title\": {\"standoff\": 15}, \"zerolinecolor\": \"white\", \"zerolinewidth\": 2}}}, \"title\": {\"text\": \"Blockfolio Networth in USD\"}, \"xaxis\": {\"title\": {\"text\": \"Cryptocurrency\"}}, \"yaxis\": {\"title\": {\"text\": \"USD\"}}},                        {\"responsive\": true}                    ).then(function(){\n",
       "                            \n",
       "var gd = document.getElementById('b139d7c3-a349-4699-bc91-eaa381a06729');\n",
       "var x = new MutationObserver(function (mutations, observer) {{\n",
       "        var display = window.getComputedStyle(gd).display;\n",
       "        if (!display || display === 'none') {{\n",
       "            console.log([gd, 'removed!']);\n",
       "            Plotly.purge(gd);\n",
       "            observer.disconnect();\n",
       "        }}\n",
       "}});\n",
       "\n",
       "// Listen for the removal of the full notebook cells\n",
       "var notebookContainer = gd.closest('#notebook-container');\n",
       "if (notebookContainer) {{\n",
       "    x.observe(notebookContainer, {childList: true});\n",
       "}}\n",
       "\n",
       "// Listen for the clearing of the current output cell\n",
       "var outputEl = gd.closest('.output');\n",
       "if (outputEl) {{\n",
       "    x.observe(outputEl, {childList: true});\n",
       "}}\n",
       "\n",
       "                        })                };                });            </script>        </div>"
      ]
     },
     "metadata": {},
     "output_type": "display_data"
    }
   ],
   "source": [
    "marker = dict(color='rgb(158,202,225)',\n",
    "              line=dict(color='rgb(8,48,107)', width=1.5))\n",
    "\n",
    "layout = go.Layout(title='Blockfolio Networth in USD',\n",
    "                   xaxis=dict(title='Cryptocurrency'),\n",
    "                   yaxis=dict(title='USD'))\n",
    "              \n",
    "value_chart=go.Bar(x=merged_data.symbol, y=merged_data.value_usd, marker=marker)\n",
    "\n",
    "fig = go.Figure(data=[value_chart], layout=layout)\n",
    "py.iplot(fig)"
   ]
  },
  {
   "cell_type": "markdown",
   "metadata": {},
   "source": [
    "#### Fraction of total Supply\n",
    "Finally, that looks at the relative sizes of your investment. \n",
    "This gives you an idea or visualizes in which cryptocurrency you believe in the most. \n",
    "The graph below shows you fractional share of the the current crypto's total supply."
   ]
  },
  {
   "cell_type": "code",
   "execution_count": 8,
   "metadata": {},
   "outputs": [
    {
     "data": {
      "application/vnd.plotly.v1+json": {
       "config": {
        "linkText": "Export to plot.ly",
        "plotlyServerURL": "https://plot.ly",
        "showLink": false
       },
       "data": [
        {
         "marker": {
          "color": "rgb(258,202,125)",
          "line": {
           "color": "rgb(8,48,107)",
           "width": 1.5
          }
         },
         "type": "bar",
         "x": [
          "BTC",
          "ETH",
          "MIOTA",
          "NEO",
          "STEEM",
          "LTC",
          "XMR",
          "NANO",
          "PIVX",
          "LSK",
          "ARK",
          "DASH",
          "BCH",
          "OMG",
          "XRP",
          "GAS"
         ],
         "y": [
          1.6794520539135354e-08,
          2.605839241684762e-08,
          2.795436353948873e-07,
          7e-08,
          1.2691157083143787e-06,
          2.249111532952016e-08,
          5.5969188982356575e-08,
          3.1520102608069654e-07,
          1.8870647901604878e-06,
          8.362596730679046e-08,
          1.4116182236935448e-07,
          9.967581289549052e-09,
          7.155611127055582e-10,
          7.843394605200001e-09,
          1.3001192058237888e-10,
          5.81720774261043e-10
         ]
        }
       ],
       "layout": {
        "template": {
         "data": {
          "bar": [
           {
            "error_x": {
             "color": "#2a3f5f"
            },
            "error_y": {
             "color": "#2a3f5f"
            },
            "marker": {
             "line": {
              "color": "#E5ECF6",
              "width": 0.5
             }
            },
            "type": "bar"
           }
          ],
          "barpolar": [
           {
            "marker": {
             "line": {
              "color": "#E5ECF6",
              "width": 0.5
             }
            },
            "type": "barpolar"
           }
          ],
          "carpet": [
           {
            "aaxis": {
             "endlinecolor": "#2a3f5f",
             "gridcolor": "white",
             "linecolor": "white",
             "minorgridcolor": "white",
             "startlinecolor": "#2a3f5f"
            },
            "baxis": {
             "endlinecolor": "#2a3f5f",
             "gridcolor": "white",
             "linecolor": "white",
             "minorgridcolor": "white",
             "startlinecolor": "#2a3f5f"
            },
            "type": "carpet"
           }
          ],
          "choropleth": [
           {
            "colorbar": {
             "outlinewidth": 0,
             "ticks": ""
            },
            "type": "choropleth"
           }
          ],
          "contour": [
           {
            "colorbar": {
             "outlinewidth": 0,
             "ticks": ""
            },
            "colorscale": [
             [
              0,
              "#0d0887"
             ],
             [
              0.1111111111111111,
              "#46039f"
             ],
             [
              0.2222222222222222,
              "#7201a8"
             ],
             [
              0.3333333333333333,
              "#9c179e"
             ],
             [
              0.4444444444444444,
              "#bd3786"
             ],
             [
              0.5555555555555556,
              "#d8576b"
             ],
             [
              0.6666666666666666,
              "#ed7953"
             ],
             [
              0.7777777777777778,
              "#fb9f3a"
             ],
             [
              0.8888888888888888,
              "#fdca26"
             ],
             [
              1,
              "#f0f921"
             ]
            ],
            "type": "contour"
           }
          ],
          "contourcarpet": [
           {
            "colorbar": {
             "outlinewidth": 0,
             "ticks": ""
            },
            "type": "contourcarpet"
           }
          ],
          "heatmap": [
           {
            "colorbar": {
             "outlinewidth": 0,
             "ticks": ""
            },
            "colorscale": [
             [
              0,
              "#0d0887"
             ],
             [
              0.1111111111111111,
              "#46039f"
             ],
             [
              0.2222222222222222,
              "#7201a8"
             ],
             [
              0.3333333333333333,
              "#9c179e"
             ],
             [
              0.4444444444444444,
              "#bd3786"
             ],
             [
              0.5555555555555556,
              "#d8576b"
             ],
             [
              0.6666666666666666,
              "#ed7953"
             ],
             [
              0.7777777777777778,
              "#fb9f3a"
             ],
             [
              0.8888888888888888,
              "#fdca26"
             ],
             [
              1,
              "#f0f921"
             ]
            ],
            "type": "heatmap"
           }
          ],
          "heatmapgl": [
           {
            "colorbar": {
             "outlinewidth": 0,
             "ticks": ""
            },
            "colorscale": [
             [
              0,
              "#0d0887"
             ],
             [
              0.1111111111111111,
              "#46039f"
             ],
             [
              0.2222222222222222,
              "#7201a8"
             ],
             [
              0.3333333333333333,
              "#9c179e"
             ],
             [
              0.4444444444444444,
              "#bd3786"
             ],
             [
              0.5555555555555556,
              "#d8576b"
             ],
             [
              0.6666666666666666,
              "#ed7953"
             ],
             [
              0.7777777777777778,
              "#fb9f3a"
             ],
             [
              0.8888888888888888,
              "#fdca26"
             ],
             [
              1,
              "#f0f921"
             ]
            ],
            "type": "heatmapgl"
           }
          ],
          "histogram": [
           {
            "marker": {
             "colorbar": {
              "outlinewidth": 0,
              "ticks": ""
             }
            },
            "type": "histogram"
           }
          ],
          "histogram2d": [
           {
            "colorbar": {
             "outlinewidth": 0,
             "ticks": ""
            },
            "colorscale": [
             [
              0,
              "#0d0887"
             ],
             [
              0.1111111111111111,
              "#46039f"
             ],
             [
              0.2222222222222222,
              "#7201a8"
             ],
             [
              0.3333333333333333,
              "#9c179e"
             ],
             [
              0.4444444444444444,
              "#bd3786"
             ],
             [
              0.5555555555555556,
              "#d8576b"
             ],
             [
              0.6666666666666666,
              "#ed7953"
             ],
             [
              0.7777777777777778,
              "#fb9f3a"
             ],
             [
              0.8888888888888888,
              "#fdca26"
             ],
             [
              1,
              "#f0f921"
             ]
            ],
            "type": "histogram2d"
           }
          ],
          "histogram2dcontour": [
           {
            "colorbar": {
             "outlinewidth": 0,
             "ticks": ""
            },
            "colorscale": [
             [
              0,
              "#0d0887"
             ],
             [
              0.1111111111111111,
              "#46039f"
             ],
             [
              0.2222222222222222,
              "#7201a8"
             ],
             [
              0.3333333333333333,
              "#9c179e"
             ],
             [
              0.4444444444444444,
              "#bd3786"
             ],
             [
              0.5555555555555556,
              "#d8576b"
             ],
             [
              0.6666666666666666,
              "#ed7953"
             ],
             [
              0.7777777777777778,
              "#fb9f3a"
             ],
             [
              0.8888888888888888,
              "#fdca26"
             ],
             [
              1,
              "#f0f921"
             ]
            ],
            "type": "histogram2dcontour"
           }
          ],
          "mesh3d": [
           {
            "colorbar": {
             "outlinewidth": 0,
             "ticks": ""
            },
            "type": "mesh3d"
           }
          ],
          "parcoords": [
           {
            "line": {
             "colorbar": {
              "outlinewidth": 0,
              "ticks": ""
             }
            },
            "type": "parcoords"
           }
          ],
          "pie": [
           {
            "automargin": true,
            "type": "pie"
           }
          ],
          "scatter": [
           {
            "marker": {
             "colorbar": {
              "outlinewidth": 0,
              "ticks": ""
             }
            },
            "type": "scatter"
           }
          ],
          "scatter3d": [
           {
            "line": {
             "colorbar": {
              "outlinewidth": 0,
              "ticks": ""
             }
            },
            "marker": {
             "colorbar": {
              "outlinewidth": 0,
              "ticks": ""
             }
            },
            "type": "scatter3d"
           }
          ],
          "scattercarpet": [
           {
            "marker": {
             "colorbar": {
              "outlinewidth": 0,
              "ticks": ""
             }
            },
            "type": "scattercarpet"
           }
          ],
          "scattergeo": [
           {
            "marker": {
             "colorbar": {
              "outlinewidth": 0,
              "ticks": ""
             }
            },
            "type": "scattergeo"
           }
          ],
          "scattergl": [
           {
            "marker": {
             "colorbar": {
              "outlinewidth": 0,
              "ticks": ""
             }
            },
            "type": "scattergl"
           }
          ],
          "scattermapbox": [
           {
            "marker": {
             "colorbar": {
              "outlinewidth": 0,
              "ticks": ""
             }
            },
            "type": "scattermapbox"
           }
          ],
          "scatterpolar": [
           {
            "marker": {
             "colorbar": {
              "outlinewidth": 0,
              "ticks": ""
             }
            },
            "type": "scatterpolar"
           }
          ],
          "scatterpolargl": [
           {
            "marker": {
             "colorbar": {
              "outlinewidth": 0,
              "ticks": ""
             }
            },
            "type": "scatterpolargl"
           }
          ],
          "scatterternary": [
           {
            "marker": {
             "colorbar": {
              "outlinewidth": 0,
              "ticks": ""
             }
            },
            "type": "scatterternary"
           }
          ],
          "surface": [
           {
            "colorbar": {
             "outlinewidth": 0,
             "ticks": ""
            },
            "colorscale": [
             [
              0,
              "#0d0887"
             ],
             [
              0.1111111111111111,
              "#46039f"
             ],
             [
              0.2222222222222222,
              "#7201a8"
             ],
             [
              0.3333333333333333,
              "#9c179e"
             ],
             [
              0.4444444444444444,
              "#bd3786"
             ],
             [
              0.5555555555555556,
              "#d8576b"
             ],
             [
              0.6666666666666666,
              "#ed7953"
             ],
             [
              0.7777777777777778,
              "#fb9f3a"
             ],
             [
              0.8888888888888888,
              "#fdca26"
             ],
             [
              1,
              "#f0f921"
             ]
            ],
            "type": "surface"
           }
          ],
          "table": [
           {
            "cells": {
             "fill": {
              "color": "#EBF0F8"
             },
             "line": {
              "color": "white"
             }
            },
            "header": {
             "fill": {
              "color": "#C8D4E3"
             },
             "line": {
              "color": "white"
             }
            },
            "type": "table"
           }
          ]
         },
         "layout": {
          "annotationdefaults": {
           "arrowcolor": "#2a3f5f",
           "arrowhead": 0,
           "arrowwidth": 1
          },
          "autotypenumbers": "strict",
          "coloraxis": {
           "colorbar": {
            "outlinewidth": 0,
            "ticks": ""
           }
          },
          "colorscale": {
           "diverging": [
            [
             0,
             "#8e0152"
            ],
            [
             0.1,
             "#c51b7d"
            ],
            [
             0.2,
             "#de77ae"
            ],
            [
             0.3,
             "#f1b6da"
            ],
            [
             0.4,
             "#fde0ef"
            ],
            [
             0.5,
             "#f7f7f7"
            ],
            [
             0.6,
             "#e6f5d0"
            ],
            [
             0.7,
             "#b8e186"
            ],
            [
             0.8,
             "#7fbc41"
            ],
            [
             0.9,
             "#4d9221"
            ],
            [
             1,
             "#276419"
            ]
           ],
           "sequential": [
            [
             0,
             "#0d0887"
            ],
            [
             0.1111111111111111,
             "#46039f"
            ],
            [
             0.2222222222222222,
             "#7201a8"
            ],
            [
             0.3333333333333333,
             "#9c179e"
            ],
            [
             0.4444444444444444,
             "#bd3786"
            ],
            [
             0.5555555555555556,
             "#d8576b"
            ],
            [
             0.6666666666666666,
             "#ed7953"
            ],
            [
             0.7777777777777778,
             "#fb9f3a"
            ],
            [
             0.8888888888888888,
             "#fdca26"
            ],
            [
             1,
             "#f0f921"
            ]
           ],
           "sequentialminus": [
            [
             0,
             "#0d0887"
            ],
            [
             0.1111111111111111,
             "#46039f"
            ],
            [
             0.2222222222222222,
             "#7201a8"
            ],
            [
             0.3333333333333333,
             "#9c179e"
            ],
            [
             0.4444444444444444,
             "#bd3786"
            ],
            [
             0.5555555555555556,
             "#d8576b"
            ],
            [
             0.6666666666666666,
             "#ed7953"
            ],
            [
             0.7777777777777778,
             "#fb9f3a"
            ],
            [
             0.8888888888888888,
             "#fdca26"
            ],
            [
             1,
             "#f0f921"
            ]
           ]
          },
          "colorway": [
           "#636efa",
           "#EF553B",
           "#00cc96",
           "#ab63fa",
           "#FFA15A",
           "#19d3f3",
           "#FF6692",
           "#B6E880",
           "#FF97FF",
           "#FECB52"
          ],
          "font": {
           "color": "#2a3f5f"
          },
          "geo": {
           "bgcolor": "white",
           "lakecolor": "white",
           "landcolor": "#E5ECF6",
           "showlakes": true,
           "showland": true,
           "subunitcolor": "white"
          },
          "hoverlabel": {
           "align": "left"
          },
          "hovermode": "closest",
          "mapbox": {
           "style": "light"
          },
          "paper_bgcolor": "white",
          "plot_bgcolor": "#E5ECF6",
          "polar": {
           "angularaxis": {
            "gridcolor": "white",
            "linecolor": "white",
            "ticks": ""
           },
           "bgcolor": "#E5ECF6",
           "radialaxis": {
            "gridcolor": "white",
            "linecolor": "white",
            "ticks": ""
           }
          },
          "scene": {
           "xaxis": {
            "backgroundcolor": "#E5ECF6",
            "gridcolor": "white",
            "gridwidth": 2,
            "linecolor": "white",
            "showbackground": true,
            "ticks": "",
            "zerolinecolor": "white"
           },
           "yaxis": {
            "backgroundcolor": "#E5ECF6",
            "gridcolor": "white",
            "gridwidth": 2,
            "linecolor": "white",
            "showbackground": true,
            "ticks": "",
            "zerolinecolor": "white"
           },
           "zaxis": {
            "backgroundcolor": "#E5ECF6",
            "gridcolor": "white",
            "gridwidth": 2,
            "linecolor": "white",
            "showbackground": true,
            "ticks": "",
            "zerolinecolor": "white"
           }
          },
          "shapedefaults": {
           "line": {
            "color": "#2a3f5f"
           }
          },
          "ternary": {
           "aaxis": {
            "gridcolor": "white",
            "linecolor": "white",
            "ticks": ""
           },
           "baxis": {
            "gridcolor": "white",
            "linecolor": "white",
            "ticks": ""
           },
           "bgcolor": "#E5ECF6",
           "caxis": {
            "gridcolor": "white",
            "linecolor": "white",
            "ticks": ""
           }
          },
          "title": {
           "x": 0.05
          },
          "xaxis": {
           "automargin": true,
           "gridcolor": "white",
           "linecolor": "white",
           "ticks": "",
           "title": {
            "standoff": 15
           },
           "zerolinecolor": "white",
           "zerolinewidth": 2
          },
          "yaxis": {
           "automargin": true,
           "gridcolor": "white",
           "linecolor": "white",
           "ticks": "",
           "title": {
            "standoff": 15
           },
           "zerolinecolor": "white",
           "zerolinewidth": 2
          }
         }
        },
        "title": {
         "text": "Relative Blockfolio Size"
        },
        "xaxis": {
         "title": {
          "text": "Cryptocurrency"
         }
        },
        "yaxis": {
         "title": {
          "text": "Fraction of total Supply"
         }
        }
       }
      },
      "text/html": [
       "<div>                            <div id=\"3e63d5a7-686b-42ee-b2f3-37c7ba91e7e6\" class=\"plotly-graph-div\" style=\"height:525px; width:100%;\"></div>            <script type=\"text/javascript\">                require([\"plotly\"], function(Plotly) {                    window.PLOTLYENV=window.PLOTLYENV || {};                                    if (document.getElementById(\"3e63d5a7-686b-42ee-b2f3-37c7ba91e7e6\")) {                    Plotly.newPlot(                        \"3e63d5a7-686b-42ee-b2f3-37c7ba91e7e6\",                        [{\"marker\": {\"color\": \"rgb(258,202,125)\", \"line\": {\"color\": \"rgb(8,48,107)\", \"width\": 1.5}}, \"type\": \"bar\", \"x\": [\"BTC\", \"ETH\", \"MIOTA\", \"NEO\", \"STEEM\", \"LTC\", \"XMR\", \"NANO\", \"PIVX\", \"LSK\", \"ARK\", \"DASH\", \"BCH\", \"OMG\", \"XRP\", \"GAS\"], \"y\": [1.6794520539135354e-08, 2.605839241684762e-08, 2.795436353948873e-07, 7e-08, 1.2691157083143787e-06, 2.249111532952016e-08, 5.5969188982356575e-08, 3.1520102608069654e-07, 1.8870647901604878e-06, 8.362596730679046e-08, 1.4116182236935448e-07, 9.967581289549052e-09, 7.155611127055582e-10, 7.843394605200001e-09, 1.3001192058237888e-10, 5.81720774261043e-10]}],                        {\"template\": {\"data\": {\"bar\": [{\"error_x\": {\"color\": \"#2a3f5f\"}, \"error_y\": {\"color\": \"#2a3f5f\"}, \"marker\": {\"line\": {\"color\": \"#E5ECF6\", \"width\": 0.5}}, \"type\": \"bar\"}], \"barpolar\": [{\"marker\": {\"line\": {\"color\": \"#E5ECF6\", \"width\": 0.5}}, \"type\": \"barpolar\"}], \"carpet\": [{\"aaxis\": {\"endlinecolor\": \"#2a3f5f\", \"gridcolor\": \"white\", \"linecolor\": \"white\", \"minorgridcolor\": \"white\", \"startlinecolor\": \"#2a3f5f\"}, \"baxis\": {\"endlinecolor\": \"#2a3f5f\", \"gridcolor\": \"white\", \"linecolor\": \"white\", \"minorgridcolor\": \"white\", \"startlinecolor\": \"#2a3f5f\"}, \"type\": \"carpet\"}], \"choropleth\": [{\"colorbar\": {\"outlinewidth\": 0, \"ticks\": \"\"}, \"type\": \"choropleth\"}], \"contour\": [{\"colorbar\": {\"outlinewidth\": 0, \"ticks\": \"\"}, \"colorscale\": [[0.0, \"#0d0887\"], [0.1111111111111111, \"#46039f\"], [0.2222222222222222, \"#7201a8\"], [0.3333333333333333, \"#9c179e\"], [0.4444444444444444, \"#bd3786\"], [0.5555555555555556, \"#d8576b\"], [0.6666666666666666, \"#ed7953\"], [0.7777777777777778, \"#fb9f3a\"], [0.8888888888888888, \"#fdca26\"], [1.0, \"#f0f921\"]], \"type\": \"contour\"}], \"contourcarpet\": [{\"colorbar\": {\"outlinewidth\": 0, \"ticks\": \"\"}, \"type\": \"contourcarpet\"}], \"heatmap\": [{\"colorbar\": {\"outlinewidth\": 0, \"ticks\": \"\"}, \"colorscale\": [[0.0, \"#0d0887\"], [0.1111111111111111, \"#46039f\"], [0.2222222222222222, \"#7201a8\"], [0.3333333333333333, \"#9c179e\"], [0.4444444444444444, \"#bd3786\"], [0.5555555555555556, \"#d8576b\"], [0.6666666666666666, \"#ed7953\"], [0.7777777777777778, \"#fb9f3a\"], [0.8888888888888888, \"#fdca26\"], [1.0, \"#f0f921\"]], \"type\": \"heatmap\"}], \"heatmapgl\": [{\"colorbar\": {\"outlinewidth\": 0, \"ticks\": \"\"}, \"colorscale\": [[0.0, \"#0d0887\"], [0.1111111111111111, \"#46039f\"], [0.2222222222222222, \"#7201a8\"], [0.3333333333333333, \"#9c179e\"], [0.4444444444444444, \"#bd3786\"], [0.5555555555555556, \"#d8576b\"], [0.6666666666666666, \"#ed7953\"], [0.7777777777777778, \"#fb9f3a\"], [0.8888888888888888, \"#fdca26\"], [1.0, \"#f0f921\"]], \"type\": \"heatmapgl\"}], \"histogram\": [{\"marker\": {\"colorbar\": {\"outlinewidth\": 0, \"ticks\": \"\"}}, \"type\": \"histogram\"}], \"histogram2d\": [{\"colorbar\": {\"outlinewidth\": 0, \"ticks\": \"\"}, \"colorscale\": [[0.0, \"#0d0887\"], [0.1111111111111111, \"#46039f\"], [0.2222222222222222, \"#7201a8\"], [0.3333333333333333, \"#9c179e\"], [0.4444444444444444, \"#bd3786\"], [0.5555555555555556, \"#d8576b\"], [0.6666666666666666, \"#ed7953\"], [0.7777777777777778, \"#fb9f3a\"], [0.8888888888888888, \"#fdca26\"], [1.0, \"#f0f921\"]], \"type\": \"histogram2d\"}], \"histogram2dcontour\": [{\"colorbar\": {\"outlinewidth\": 0, \"ticks\": \"\"}, \"colorscale\": [[0.0, \"#0d0887\"], [0.1111111111111111, \"#46039f\"], [0.2222222222222222, \"#7201a8\"], [0.3333333333333333, \"#9c179e\"], [0.4444444444444444, \"#bd3786\"], [0.5555555555555556, \"#d8576b\"], [0.6666666666666666, \"#ed7953\"], [0.7777777777777778, \"#fb9f3a\"], [0.8888888888888888, \"#fdca26\"], [1.0, \"#f0f921\"]], \"type\": \"histogram2dcontour\"}], \"mesh3d\": [{\"colorbar\": {\"outlinewidth\": 0, \"ticks\": \"\"}, \"type\": \"mesh3d\"}], \"parcoords\": [{\"line\": {\"colorbar\": {\"outlinewidth\": 0, \"ticks\": \"\"}}, \"type\": \"parcoords\"}], \"pie\": [{\"automargin\": true, \"type\": \"pie\"}], \"scatter\": [{\"marker\": {\"colorbar\": {\"outlinewidth\": 0, \"ticks\": \"\"}}, \"type\": \"scatter\"}], \"scatter3d\": [{\"line\": {\"colorbar\": {\"outlinewidth\": 0, \"ticks\": \"\"}}, \"marker\": {\"colorbar\": {\"outlinewidth\": 0, \"ticks\": \"\"}}, \"type\": \"scatter3d\"}], \"scattercarpet\": [{\"marker\": {\"colorbar\": {\"outlinewidth\": 0, \"ticks\": \"\"}}, \"type\": \"scattercarpet\"}], \"scattergeo\": [{\"marker\": {\"colorbar\": {\"outlinewidth\": 0, \"ticks\": \"\"}}, \"type\": \"scattergeo\"}], \"scattergl\": [{\"marker\": {\"colorbar\": {\"outlinewidth\": 0, \"ticks\": \"\"}}, \"type\": \"scattergl\"}], \"scattermapbox\": [{\"marker\": {\"colorbar\": {\"outlinewidth\": 0, \"ticks\": \"\"}}, \"type\": \"scattermapbox\"}], \"scatterpolar\": [{\"marker\": {\"colorbar\": {\"outlinewidth\": 0, \"ticks\": \"\"}}, \"type\": \"scatterpolar\"}], \"scatterpolargl\": [{\"marker\": {\"colorbar\": {\"outlinewidth\": 0, \"ticks\": \"\"}}, \"type\": \"scatterpolargl\"}], \"scatterternary\": [{\"marker\": {\"colorbar\": {\"outlinewidth\": 0, \"ticks\": \"\"}}, \"type\": \"scatterternary\"}], \"surface\": [{\"colorbar\": {\"outlinewidth\": 0, \"ticks\": \"\"}, \"colorscale\": [[0.0, \"#0d0887\"], [0.1111111111111111, \"#46039f\"], [0.2222222222222222, \"#7201a8\"], [0.3333333333333333, \"#9c179e\"], [0.4444444444444444, \"#bd3786\"], [0.5555555555555556, \"#d8576b\"], [0.6666666666666666, \"#ed7953\"], [0.7777777777777778, \"#fb9f3a\"], [0.8888888888888888, \"#fdca26\"], [1.0, \"#f0f921\"]], \"type\": \"surface\"}], \"table\": [{\"cells\": {\"fill\": {\"color\": \"#EBF0F8\"}, \"line\": {\"color\": \"white\"}}, \"header\": {\"fill\": {\"color\": \"#C8D4E3\"}, \"line\": {\"color\": \"white\"}}, \"type\": \"table\"}]}, \"layout\": {\"annotationdefaults\": {\"arrowcolor\": \"#2a3f5f\", \"arrowhead\": 0, \"arrowwidth\": 1}, \"autotypenumbers\": \"strict\", \"coloraxis\": {\"colorbar\": {\"outlinewidth\": 0, \"ticks\": \"\"}}, \"colorscale\": {\"diverging\": [[0, \"#8e0152\"], [0.1, \"#c51b7d\"], [0.2, \"#de77ae\"], [0.3, \"#f1b6da\"], [0.4, \"#fde0ef\"], [0.5, \"#f7f7f7\"], [0.6, \"#e6f5d0\"], [0.7, \"#b8e186\"], [0.8, \"#7fbc41\"], [0.9, \"#4d9221\"], [1, \"#276419\"]], \"sequential\": [[0.0, \"#0d0887\"], [0.1111111111111111, \"#46039f\"], [0.2222222222222222, \"#7201a8\"], [0.3333333333333333, \"#9c179e\"], [0.4444444444444444, \"#bd3786\"], [0.5555555555555556, \"#d8576b\"], [0.6666666666666666, \"#ed7953\"], [0.7777777777777778, \"#fb9f3a\"], [0.8888888888888888, \"#fdca26\"], [1.0, \"#f0f921\"]], \"sequentialminus\": [[0.0, \"#0d0887\"], [0.1111111111111111, \"#46039f\"], [0.2222222222222222, \"#7201a8\"], [0.3333333333333333, \"#9c179e\"], [0.4444444444444444, \"#bd3786\"], [0.5555555555555556, \"#d8576b\"], [0.6666666666666666, \"#ed7953\"], [0.7777777777777778, \"#fb9f3a\"], [0.8888888888888888, \"#fdca26\"], [1.0, \"#f0f921\"]]}, \"colorway\": [\"#636efa\", \"#EF553B\", \"#00cc96\", \"#ab63fa\", \"#FFA15A\", \"#19d3f3\", \"#FF6692\", \"#B6E880\", \"#FF97FF\", \"#FECB52\"], \"font\": {\"color\": \"#2a3f5f\"}, \"geo\": {\"bgcolor\": \"white\", \"lakecolor\": \"white\", \"landcolor\": \"#E5ECF6\", \"showlakes\": true, \"showland\": true, \"subunitcolor\": \"white\"}, \"hoverlabel\": {\"align\": \"left\"}, \"hovermode\": \"closest\", \"mapbox\": {\"style\": \"light\"}, \"paper_bgcolor\": \"white\", \"plot_bgcolor\": \"#E5ECF6\", \"polar\": {\"angularaxis\": {\"gridcolor\": \"white\", \"linecolor\": \"white\", \"ticks\": \"\"}, \"bgcolor\": \"#E5ECF6\", \"radialaxis\": {\"gridcolor\": \"white\", \"linecolor\": \"white\", \"ticks\": \"\"}}, \"scene\": {\"xaxis\": {\"backgroundcolor\": \"#E5ECF6\", \"gridcolor\": \"white\", \"gridwidth\": 2, \"linecolor\": \"white\", \"showbackground\": true, \"ticks\": \"\", \"zerolinecolor\": \"white\"}, \"yaxis\": {\"backgroundcolor\": \"#E5ECF6\", \"gridcolor\": \"white\", \"gridwidth\": 2, \"linecolor\": \"white\", \"showbackground\": true, \"ticks\": \"\", \"zerolinecolor\": \"white\"}, \"zaxis\": {\"backgroundcolor\": \"#E5ECF6\", \"gridcolor\": \"white\", \"gridwidth\": 2, \"linecolor\": \"white\", \"showbackground\": true, \"ticks\": \"\", \"zerolinecolor\": \"white\"}}, \"shapedefaults\": {\"line\": {\"color\": \"#2a3f5f\"}}, \"ternary\": {\"aaxis\": {\"gridcolor\": \"white\", \"linecolor\": \"white\", \"ticks\": \"\"}, \"baxis\": {\"gridcolor\": \"white\", \"linecolor\": \"white\", \"ticks\": \"\"}, \"bgcolor\": \"#E5ECF6\", \"caxis\": {\"gridcolor\": \"white\", \"linecolor\": \"white\", \"ticks\": \"\"}}, \"title\": {\"x\": 0.05}, \"xaxis\": {\"automargin\": true, \"gridcolor\": \"white\", \"linecolor\": \"white\", \"ticks\": \"\", \"title\": {\"standoff\": 15}, \"zerolinecolor\": \"white\", \"zerolinewidth\": 2}, \"yaxis\": {\"automargin\": true, \"gridcolor\": \"white\", \"linecolor\": \"white\", \"ticks\": \"\", \"title\": {\"standoff\": 15}, \"zerolinecolor\": \"white\", \"zerolinewidth\": 2}}}, \"title\": {\"text\": \"Relative Blockfolio Size\"}, \"xaxis\": {\"title\": {\"text\": \"Cryptocurrency\"}}, \"yaxis\": {\"title\": {\"text\": \"Fraction of total Supply\"}}},                        {\"responsive\": true}                    ).then(function(){\n",
       "                            \n",
       "var gd = document.getElementById('3e63d5a7-686b-42ee-b2f3-37c7ba91e7e6');\n",
       "var x = new MutationObserver(function (mutations, observer) {{\n",
       "        var display = window.getComputedStyle(gd).display;\n",
       "        if (!display || display === 'none') {{\n",
       "            console.log([gd, 'removed!']);\n",
       "            Plotly.purge(gd);\n",
       "            observer.disconnect();\n",
       "        }}\n",
       "}});\n",
       "\n",
       "// Listen for the removal of the full notebook cells\n",
       "var notebookContainer = gd.closest('#notebook-container');\n",
       "if (notebookContainer) {{\n",
       "    x.observe(notebookContainer, {childList: true});\n",
       "}}\n",
       "\n",
       "// Listen for the clearing of the current output cell\n",
       "var outputEl = gd.closest('.output');\n",
       "if (outputEl) {{\n",
       "    x.observe(outputEl, {childList: true});\n",
       "}}\n",
       "\n",
       "                        })                };                });            </script>        </div>"
      ]
     },
     "metadata": {},
     "output_type": "display_data"
    }
   ],
   "source": [
    "marker = dict(color='rgb(258,202,125)', line=dict(color='rgb(8,48,107)', width=1.5,))\n",
    "\n",
    "layout = go.Layout(title='Relative Blockfolio Size',\n",
    "                   xaxis=dict(title='Cryptocurrency'),\n",
    "                   yaxis=dict(title='Fraction of total Supply'))\n",
    "\n",
    "share_chart=go.Bar(x=merged_data.symbol, y=merged_data.coinshare, marker=marker)\n",
    "\n",
    "fig = go.Figure(data=[share_chart], layout=layout)\n",
    "py.iplot(fig)"
   ]
  },
  {
   "cell_type": "code",
   "execution_count": null,
   "metadata": {},
   "outputs": [],
   "source": []
  }
 ],
 "metadata": {
  "anaconda-cloud": {},
  "kernelspec": {
   "display_name": "Python 3",
   "language": "python",
   "name": "python3"
  },
  "language_info": {
   "codemirror_mode": {
    "name": "ipython",
    "version": 3
   },
   "file_extension": ".py",
   "mimetype": "text/x-python",
   "name": "python",
   "nbconvert_exporter": "python",
   "pygments_lexer": "ipython3",
   "version": "3.9.2"
  }
 },
 "nbformat": 4,
 "nbformat_minor": 2
}
